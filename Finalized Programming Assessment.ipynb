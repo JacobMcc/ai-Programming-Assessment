{
 "cells": [
  {
   "cell_type": "markdown",
   "metadata": {},
   "source": [
    "#### *Jacob McCright  |  Automated Insights  |  Programming Assessment for Data Science Internship  |  3/5/2018 * \n",
    "\n",
    "# Prompt  #1\n",
    "\n",
    "#### This prompt asks us to find the 5 most popular genres within the given *movies* dataset.\n",
    "\n",
    "For this prompt I will be:\n",
    "-  Munging the data into a form most conducive to analyses for the given question\n",
    "-  Determining which statistic (mean/median/count) is best to establish a ranking\n",
    "-  Computing the ranking\n",
    "\n",
    "We start by importing necessary modules and the dataset:"
   ]
  },
  {
   "cell_type": "code",
   "execution_count": 3,
   "metadata": {
    "collapsed": false
   },
   "outputs": [
    {
     "data": {
      "text/html": [
       "<div>\n",
       "<table border=\"1\" class=\"dataframe\">\n",
       "  <thead>\n",
       "    <tr style=\"text-align: right;\">\n",
       "      <th></th>\n",
       "      <th>id</th>\n",
       "      <th>title</th>\n",
       "      <th>release_date</th>\n",
       "      <th>box_office_revenue</th>\n",
       "      <th>runtime</th>\n",
       "      <th>genres</th>\n",
       "      <th>summary</th>\n",
       "    </tr>\n",
       "  </thead>\n",
       "  <tbody>\n",
       "    <tr>\n",
       "      <th>0</th>\n",
       "      <td>0</td>\n",
       "      <td>Ghosts of Mars</td>\n",
       "      <td>2001-08-24</td>\n",
       "      <td>14010832.0</td>\n",
       "      <td>98.0</td>\n",
       "      <td>[\"Space western\", \"Horror\", \"Supernatural\", \"T...</td>\n",
       "      <td>Set in the second half of the 22nd century, th...</td>\n",
       "    </tr>\n",
       "    <tr>\n",
       "      <th>1</th>\n",
       "      <td>1</td>\n",
       "      <td>White Of The Eye</td>\n",
       "      <td>1987</td>\n",
       "      <td>NaN</td>\n",
       "      <td>110.0</td>\n",
       "      <td>[\"Erotic thriller\", \"Psychological thriller\", ...</td>\n",
       "      <td>A series of murders of rich young women throug...</td>\n",
       "    </tr>\n",
       "    <tr>\n",
       "      <th>2</th>\n",
       "      <td>2</td>\n",
       "      <td>A Woman in Flames</td>\n",
       "      <td>1983</td>\n",
       "      <td>NaN</td>\n",
       "      <td>106.0</td>\n",
       "      <td>[\"Drama\"]</td>\n",
       "      <td>Eva, an upper class housewife, becomes frustra...</td>\n",
       "    </tr>\n",
       "    <tr>\n",
       "      <th>3</th>\n",
       "      <td>3</td>\n",
       "      <td>The Sorcerer's Apprentice</td>\n",
       "      <td>2002</td>\n",
       "      <td>NaN</td>\n",
       "      <td>86.0</td>\n",
       "      <td>[\"Adventure\", \"Fantasy\", \"World cinema\", \"Fami...</td>\n",
       "      <td>Every hundred years, the evil Morgana  returns...</td>\n",
       "    </tr>\n",
       "    <tr>\n",
       "      <th>4</th>\n",
       "      <td>4</td>\n",
       "      <td>Little city</td>\n",
       "      <td>1997-04-04</td>\n",
       "      <td>NaN</td>\n",
       "      <td>93.0</td>\n",
       "      <td>[\"Romance Film\", \"Ensemble Film\", \"Comedy-dram...</td>\n",
       "      <td>Adam, a San Francisco-based artist who works a...</td>\n",
       "    </tr>\n",
       "  </tbody>\n",
       "</table>\n",
       "</div>"
      ],
      "text/plain": [
       "   id                      title release_date  box_office_revenue  runtime  \\\n",
       "0   0             Ghosts of Mars   2001-08-24          14010832.0     98.0   \n",
       "1   1           White Of The Eye         1987                 NaN    110.0   \n",
       "2   2          A Woman in Flames         1983                 NaN    106.0   \n",
       "3   3  The Sorcerer's Apprentice         2002                 NaN     86.0   \n",
       "4   4                Little city   1997-04-04                 NaN     93.0   \n",
       "\n",
       "                                              genres  \\\n",
       "0  [\"Space western\", \"Horror\", \"Supernatural\", \"T...   \n",
       "1  [\"Erotic thriller\", \"Psychological thriller\", ...   \n",
       "2                                          [\"Drama\"]   \n",
       "3  [\"Adventure\", \"Fantasy\", \"World cinema\", \"Fami...   \n",
       "4  [\"Romance Film\", \"Ensemble Film\", \"Comedy-dram...   \n",
       "\n",
       "                                             summary  \n",
       "0  Set in the second half of the 22nd century, th...  \n",
       "1  A series of murders of rich young women throug...  \n",
       "2  Eva, an upper class housewife, becomes frustra...  \n",
       "3  Every hundred years, the evil Morgana  returns...  \n",
       "4  Adam, a San Francisco-based artist who works a...  "
      ]
     },
     "execution_count": 3,
     "metadata": {},
     "output_type": "execute_result"
    }
   ],
   "source": [
    "import pandas as pd\n",
    "import numpy as np\n",
    "from fuzzywuzzy import fuzz\n",
    "import matplotlib.pyplot as plt\n",
    "%matplotlib inline\n",
    "from collections import Counter\n",
    "import ast\n",
    "\n",
    "movies = pd.read_csv(\"movie_data.csv\")\n",
    "\n",
    "movies.head(5)"
   ]
  },
  {
   "cell_type": "markdown",
   "metadata": {},
   "source": [
    "Now we want to check the type of each feature to make sure it matches our initial intuition"
   ]
  },
  {
   "cell_type": "code",
   "execution_count": 4,
   "metadata": {
    "collapsed": false
   },
   "outputs": [
    {
     "name": "stdout",
     "output_type": "stream",
     "text": [
      "id ... <class 'numpy.int64'>\n",
      "title ... <class 'str'>\n",
      "release_date ... <class 'str'>\n",
      "box_office_revenue ... <class 'numpy.float64'>\n",
      "runtime ... <class 'numpy.float64'>\n",
      "genres ... <class 'str'>\n",
      "summary ... <class 'str'>\n"
     ]
    }
   ],
   "source": [
    "for feature in movies.columns:\n",
    "    print(feature, \"...\", type(movies[feature][0]))"
   ]
  },
  {
   "cell_type": "markdown",
   "metadata": {},
   "source": [
    "We can see that \"genres\" is actually a string and not a list. Let's change it into a list!"
   ]
  },
  {
   "cell_type": "markdown",
   "metadata": {},
   "source": [
    "## Munging\n",
    "\n",
    "We convert list-looking strings into lists using ast's \"literal_eval\" method."
   ]
  },
  {
   "cell_type": "code",
   "execution_count": 5,
   "metadata": {
    "collapsed": false
   },
   "outputs": [
    {
     "data": {
      "text/plain": [
       "list"
      ]
     },
     "execution_count": 5,
     "metadata": {},
     "output_type": "execute_result"
    }
   ],
   "source": [
    "movies['genres'] = pd.Series(ast.literal_eval(genres) for genres in movies['genres'])\n",
    "\n",
    "#Let's check our work:\n",
    "type(movies['genres'][0])"
   ]
  },
  {
   "cell_type": "markdown",
   "metadata": {},
   "source": [
    "Next we split by genres so each movie has a row for each genre it falls under. This allows us to more easily work with the data and ask genre-centric questions of the data.\n",
    "\n",
    "__Note__: All of these list comprehensions make us prone to memory errors. Though my small laptop can handle it given I am not running a bunch of processes elsewhere in Jupyter."
   ]
  },
  {
   "cell_type": "code",
   "execution_count": 6,
   "metadata": {
    "collapsed": false
   },
   "outputs": [
    {
     "data": {
      "text/html": [
       "<div>\n",
       "<table border=\"1\" class=\"dataframe\">\n",
       "  <thead>\n",
       "    <tr style=\"text-align: right;\">\n",
       "      <th></th>\n",
       "      <th>box_office_revenue</th>\n",
       "      <th>genres</th>\n",
       "      <th>release_date</th>\n",
       "      <th>runtime</th>\n",
       "      <th>summary</th>\n",
       "      <th>titles</th>\n",
       "    </tr>\n",
       "  </thead>\n",
       "  <tbody>\n",
       "    <tr>\n",
       "      <th>0</th>\n",
       "      <td>14010832.0</td>\n",
       "      <td>Space western</td>\n",
       "      <td>2001-08-24</td>\n",
       "      <td>98.0</td>\n",
       "      <td>Set in the second half of the 22nd century, th...</td>\n",
       "      <td>Ghosts of Mars</td>\n",
       "    </tr>\n",
       "    <tr>\n",
       "      <th>1</th>\n",
       "      <td>14010832.0</td>\n",
       "      <td>Horror</td>\n",
       "      <td>2001-08-24</td>\n",
       "      <td>98.0</td>\n",
       "      <td>Set in the second half of the 22nd century, th...</td>\n",
       "      <td>Ghosts of Mars</td>\n",
       "    </tr>\n",
       "    <tr>\n",
       "      <th>2</th>\n",
       "      <td>14010832.0</td>\n",
       "      <td>Supernatural</td>\n",
       "      <td>2001-08-24</td>\n",
       "      <td>98.0</td>\n",
       "      <td>Set in the second half of the 22nd century, th...</td>\n",
       "      <td>Ghosts of Mars</td>\n",
       "    </tr>\n",
       "    <tr>\n",
       "      <th>3</th>\n",
       "      <td>14010832.0</td>\n",
       "      <td>Thriller</td>\n",
       "      <td>2001-08-24</td>\n",
       "      <td>98.0</td>\n",
       "      <td>Set in the second half of the 22nd century, th...</td>\n",
       "      <td>Ghosts of Mars</td>\n",
       "    </tr>\n",
       "    <tr>\n",
       "      <th>4</th>\n",
       "      <td>14010832.0</td>\n",
       "      <td>Science Fiction</td>\n",
       "      <td>2001-08-24</td>\n",
       "      <td>98.0</td>\n",
       "      <td>Set in the second half of the 22nd century, th...</td>\n",
       "      <td>Ghosts of Mars</td>\n",
       "    </tr>\n",
       "    <tr>\n",
       "      <th>5</th>\n",
       "      <td>14010832.0</td>\n",
       "      <td>Action</td>\n",
       "      <td>2001-08-24</td>\n",
       "      <td>98.0</td>\n",
       "      <td>Set in the second half of the 22nd century, th...</td>\n",
       "      <td>Ghosts of Mars</td>\n",
       "    </tr>\n",
       "    <tr>\n",
       "      <th>6</th>\n",
       "      <td>14010832.0</td>\n",
       "      <td>Adventure</td>\n",
       "      <td>2001-08-24</td>\n",
       "      <td>98.0</td>\n",
       "      <td>Set in the second half of the 22nd century, th...</td>\n",
       "      <td>Ghosts of Mars</td>\n",
       "    </tr>\n",
       "    <tr>\n",
       "      <th>7</th>\n",
       "      <td>NaN</td>\n",
       "      <td>Erotic thriller</td>\n",
       "      <td>1987</td>\n",
       "      <td>110.0</td>\n",
       "      <td>A series of murders of rich young women throug...</td>\n",
       "      <td>White Of The Eye</td>\n",
       "    </tr>\n",
       "    <tr>\n",
       "      <th>8</th>\n",
       "      <td>NaN</td>\n",
       "      <td>Psychological thriller</td>\n",
       "      <td>1987</td>\n",
       "      <td>110.0</td>\n",
       "      <td>A series of murders of rich young women throug...</td>\n",
       "      <td>White Of The Eye</td>\n",
       "    </tr>\n",
       "    <tr>\n",
       "      <th>9</th>\n",
       "      <td>NaN</td>\n",
       "      <td>Thriller</td>\n",
       "      <td>1987</td>\n",
       "      <td>110.0</td>\n",
       "      <td>A series of murders of rich young women throug...</td>\n",
       "      <td>White Of The Eye</td>\n",
       "    </tr>\n",
       "  </tbody>\n",
       "</table>\n",
       "</div>"
      ],
      "text/plain": [
       "   box_office_revenue                  genres release_date  runtime  \\\n",
       "0          14010832.0           Space western   2001-08-24     98.0   \n",
       "1          14010832.0                  Horror   2001-08-24     98.0   \n",
       "2          14010832.0            Supernatural   2001-08-24     98.0   \n",
       "3          14010832.0                Thriller   2001-08-24     98.0   \n",
       "4          14010832.0         Science Fiction   2001-08-24     98.0   \n",
       "5          14010832.0                  Action   2001-08-24     98.0   \n",
       "6          14010832.0               Adventure   2001-08-24     98.0   \n",
       "7                 NaN         Erotic thriller         1987    110.0   \n",
       "8                 NaN  Psychological thriller         1987    110.0   \n",
       "9                 NaN                Thriller         1987    110.0   \n",
       "\n",
       "                                             summary            titles  \n",
       "0  Set in the second half of the 22nd century, th...    Ghosts of Mars  \n",
       "1  Set in the second half of the 22nd century, th...    Ghosts of Mars  \n",
       "2  Set in the second half of the 22nd century, th...    Ghosts of Mars  \n",
       "3  Set in the second half of the 22nd century, th...    Ghosts of Mars  \n",
       "4  Set in the second half of the 22nd century, th...    Ghosts of Mars  \n",
       "5  Set in the second half of the 22nd century, th...    Ghosts of Mars  \n",
       "6  Set in the second half of the 22nd century, th...    Ghosts of Mars  \n",
       "7  A series of murders of rich young women throug...  White Of The Eye  \n",
       "8  A series of murders of rich young women throug...  White Of The Eye  \n",
       "9  A series of murders of rich young women throug...  White Of The Eye  "
      ]
     },
     "execution_count": 6,
     "metadata": {},
     "output_type": "execute_result"
    }
   ],
   "source": [
    "#all_genres stores all the genres split out of the lists and stacks horizontally\n",
    "#This makes is easy to construct our dataframe later\n",
    "all_genres = np.hstack(movies.genres)\n",
    "\n",
    "#Each feature is stacked so that a value repeats for as many genres as were in the original genre list\n",
    "all_titles = np.hstack([[title]*len(genre) for title, genre in movies[['title', 'genres']].values])\n",
    "all_release_dates = np.hstack([[release]*len(genre) for release, genre in movies[['release_date', 'genres']].values])\n",
    "all_revenues = np.hstack([[revenue]*len(genre) for revenue, genre in movies[['box_office_revenue', 'genres']].values])\n",
    "all_runtimes = np.hstack([[runtime]*len(genre) for runtime, genre in movies[['runtime', 'genres']].values])\n",
    "all_summaries = np.hstack([[summary]*len(genre) for summary, genre in movies[['summary', 'genres']].values])\n",
    "\n",
    "movies_split = pd.DataFrame({'genres':all_genres, 'titles':all_titles, 'release_date':all_release_dates,\n",
    "                     'box_office_revenue':all_revenues, 'runtime':all_runtimes, 'summary':all_summaries})\n",
    "\n",
    "#Let's check to see if this yields what we expect...\n",
    "movies_split.head(10)"
   ]
  },
  {
   "cell_type": "markdown",
   "metadata": {},
   "source": [
    "Next we want to look at what the actual genres are. To save the reader from a ton of scrolling we should hide the output showing all unique genres."
   ]
  },
  {
   "cell_type": "code",
   "execution_count": 7,
   "metadata": {
    "collapsed": false
   },
   "outputs": [
    {
     "name": "stdout",
     "output_type": "stream",
     "text": [
      "363\n"
     ]
    }
   ],
   "source": [
    "unique_genres = list(set(all_genres))\n",
    "\n",
    "print(len(unique_genres))\n",
    "\n",
    "unique_genres;"
   ]
  },
  {
   "cell_type": "markdown",
   "metadata": {
    "collapsed": true
   },
   "source": [
    "Note there are 363 unique genres. Looking at the set of genres we can see there are a number of genres that are the same for all intents and purposes just spelled slightly differently or are synonyms to other genres.\n",
    "\n",
    "Using the tools provided by the package \"fuzzywuzzy\" we can create a mapping dictionary to replace certain genre labels. Here is a good examply of the two different function we will use from fuzzywuzzy:"
   ]
  },
  {
   "cell_type": "code",
   "execution_count": 20,
   "metadata": {
    "collapsed": false
   },
   "outputs": [
    {
     "name": "stdout",
     "output_type": "stream",
     "text": [
      "Using \"family\" and \"family-oriented\" - partial_ratio:  100\n",
      "\n",
      "Using \"family\" and \"family-oriented\" - ratio:  57\n",
      "\n",
      "Using \"documentary\" and \"documetary\" - ratio:  95\n"
     ]
    }
   ],
   "source": [
    "#Each of these is a member of unique_genres\n",
    "\n",
    "#partial_ratio matches on substrings and is good for matching things like: \"New York Mets\" and \"Mets\"\n",
    "print(\"Using \\\"family\\\" and \\\"family-oriented\\\" - partial_ratio: \", fuzz.partial_ratio(\"family\", \"family-oriented\"))\n",
    "print(\"\")\n",
    "\n",
    "#ratio just looks at the minimum edit, or Levenshtein, distance from one string to another.\n",
    "#We can see that it does not perform well on  string pairs that partial_ratio does.\n",
    "print(\"Using \\\"family\\\" and \\\"family-oriented\\\" - ratio: \", fuzz.ratio(\"family\", \"family-oriented\"))\n",
    "print(\"\")\n",
    "\n",
    "#Here we see a case where ratio is appropriate\n",
    "print(\"Using \\\"documentary\\\" and \\\"documetary\\\" - ratio: \", fuzz.ratio(\"documentary\", \"documetary\"))"
   ]
  },
  {
   "cell_type": "markdown",
   "metadata": {},
   "source": [
    "Using these two string matching metrics we construct a mapping dictionary. We use this as a temp so that the next dictionary will only have non-empty genre-to-genre mapping elements."
   ]
  },
  {
   "cell_type": "code",
   "execution_count": 21,
   "metadata": {
    "collapsed": true
   },
   "outputs": [],
   "source": [
    "temp_mapper = {genre : [] for genre in unique_genres}\n",
    "\n",
    "for i in range(len(unique_genres)):\n",
    "    for j in range(len(unique_genres)):\n",
    "        \n",
    "        if i != j:\n",
    "            ratio_score = fuzz.ratio(unique_genres[i],unique_genres[j])\n",
    "            partial_score = fuzz.partial_ratio(unique_genres[i],unique_genres[j])\n",
    "            \n",
    "            #We choose the threshold here to be restrictive in ratio and very restrictive in partial_ratio\n",
    "            #These values were found though trial and error\n",
    "            if ratio_score >= 85 or partial_score == 100:\n",
    "                temp_mapper[unique_genres[i]].append(unique_genres[j])\n",
    "\n",
    "#After looking through temp_mapper we can find an appropriate mapping visually\n",
    "genre_mapper = {\"Action\": \"Action/Adventure\", \"Adventure\": \"Action/Adventure\", \"Music\": \"Musical\",\n",
    "               \"Computer Animation\": \"Animation\", \"Animated Cartoon\": \"Animation\", \"Backstage Musical\": \"Musical\",\n",
    "               \"Beach Party film\": \"Beach Film\", \"Biographical Film\": \"Biography\", \"Biopic [feature]\": \"Biography\",\n",
    "               \"Breakdance\": \"Dance\", \"Alien invasion\": \"Alien Film\", \"Children\\'s/Family\": \"Children\\'s\",\n",
    "               \"Children\\'s Entertainment\": \"Children\\'s\", \"Children\\'s Fantsy\": \"Children\\'s\", \n",
    "               \"Children\\'s Issues\": \"Children\\'s\", \"Comdedy\": \"Comedy\", \"Comedy horror\": \"Horror Comedy\",\n",
    "               \"Comedy film\": \"Comedy\", \"Coming-of-age film\": \"Coming of age\", \"Detective Fiction\": \"Detective\",\n",
    "               \"Education\": \"Educational\", \"Extreme Sports\": \"Sports\", \"Gross-out film\": \"Gross out\",\n",
    "               \"World History\": \"History\", \"Humour\": \"Comedy\", \"Monster movie\": \"Monster\", \"Prison film\": \"Prison\",\n",
    "               \"Superhero movie\": \"Superhero\", \"Sword and sorcery films\": \"Sword and sorcery\", \n",
    "               \"Romantic\": \"Romance Film\"}"
   ]
  },
  {
   "cell_type": "markdown",
   "metadata": {},
   "source": [
    "When choosing the mapping we left appropriately specific deviations from a more general genre (e.g. Pyschological Thriller doesn't get mapped to Thriller) but we did bucket things like Humour -> Comedy. Manual creation was necessary since fuzzywuzzy was being too overzealous in its matching and we would have been left with improper combinations. Also note we replace each key-genre with each value-genre."
   ]
  },
  {
   "cell_type": "code",
   "execution_count": 22,
   "metadata": {
    "collapsed": false
   },
   "outputs": [
    {
     "data": {
      "text/html": [
       "<div>\n",
       "<table border=\"1\" class=\"dataframe\">\n",
       "  <thead>\n",
       "    <tr style=\"text-align: right;\">\n",
       "      <th></th>\n",
       "      <th>box_office_revenue</th>\n",
       "      <th>genres</th>\n",
       "      <th>release_date</th>\n",
       "      <th>runtime</th>\n",
       "      <th>summary</th>\n",
       "      <th>titles</th>\n",
       "    </tr>\n",
       "  </thead>\n",
       "  <tbody>\n",
       "    <tr>\n",
       "      <th>0</th>\n",
       "      <td>14010832.0</td>\n",
       "      <td>Space western</td>\n",
       "      <td>2001-08-24</td>\n",
       "      <td>98.0</td>\n",
       "      <td>Set in the second half of the 22nd century, th...</td>\n",
       "      <td>Ghosts of Mars</td>\n",
       "    </tr>\n",
       "    <tr>\n",
       "      <th>1</th>\n",
       "      <td>14010832.0</td>\n",
       "      <td>Horror</td>\n",
       "      <td>2001-08-24</td>\n",
       "      <td>98.0</td>\n",
       "      <td>Set in the second half of the 22nd century, th...</td>\n",
       "      <td>Ghosts of Mars</td>\n",
       "    </tr>\n",
       "    <tr>\n",
       "      <th>2</th>\n",
       "      <td>14010832.0</td>\n",
       "      <td>Supernatural</td>\n",
       "      <td>2001-08-24</td>\n",
       "      <td>98.0</td>\n",
       "      <td>Set in the second half of the 22nd century, th...</td>\n",
       "      <td>Ghosts of Mars</td>\n",
       "    </tr>\n",
       "    <tr>\n",
       "      <th>3</th>\n",
       "      <td>14010832.0</td>\n",
       "      <td>Thriller</td>\n",
       "      <td>2001-08-24</td>\n",
       "      <td>98.0</td>\n",
       "      <td>Set in the second half of the 22nd century, th...</td>\n",
       "      <td>Ghosts of Mars</td>\n",
       "    </tr>\n",
       "    <tr>\n",
       "      <th>4</th>\n",
       "      <td>14010832.0</td>\n",
       "      <td>Science Fiction</td>\n",
       "      <td>2001-08-24</td>\n",
       "      <td>98.0</td>\n",
       "      <td>Set in the second half of the 22nd century, th...</td>\n",
       "      <td>Ghosts of Mars</td>\n",
       "    </tr>\n",
       "    <tr>\n",
       "      <th>5</th>\n",
       "      <td>14010832.0</td>\n",
       "      <td>Action/Adventure</td>\n",
       "      <td>2001-08-24</td>\n",
       "      <td>98.0</td>\n",
       "      <td>Set in the second half of the 22nd century, th...</td>\n",
       "      <td>Ghosts of Mars</td>\n",
       "    </tr>\n",
       "    <tr>\n",
       "      <th>7</th>\n",
       "      <td>NaN</td>\n",
       "      <td>Erotic thriller</td>\n",
       "      <td>1987</td>\n",
       "      <td>110.0</td>\n",
       "      <td>A series of murders of rich young women throug...</td>\n",
       "      <td>White Of The Eye</td>\n",
       "    </tr>\n",
       "    <tr>\n",
       "      <th>8</th>\n",
       "      <td>NaN</td>\n",
       "      <td>Psychological thriller</td>\n",
       "      <td>1987</td>\n",
       "      <td>110.0</td>\n",
       "      <td>A series of murders of rich young women throug...</td>\n",
       "      <td>White Of The Eye</td>\n",
       "    </tr>\n",
       "    <tr>\n",
       "      <th>9</th>\n",
       "      <td>NaN</td>\n",
       "      <td>Thriller</td>\n",
       "      <td>1987</td>\n",
       "      <td>110.0</td>\n",
       "      <td>A series of murders of rich young women throug...</td>\n",
       "      <td>White Of The Eye</td>\n",
       "    </tr>\n",
       "    <tr>\n",
       "      <th>10</th>\n",
       "      <td>NaN</td>\n",
       "      <td>Drama</td>\n",
       "      <td>1983</td>\n",
       "      <td>106.0</td>\n",
       "      <td>Eva, an upper class housewife, becomes frustra...</td>\n",
       "      <td>A Woman in Flames</td>\n",
       "    </tr>\n",
       "  </tbody>\n",
       "</table>\n",
       "</div>"
      ],
      "text/plain": [
       "    box_office_revenue                  genres release_date  runtime  \\\n",
       "0           14010832.0           Space western   2001-08-24     98.0   \n",
       "1           14010832.0                  Horror   2001-08-24     98.0   \n",
       "2           14010832.0            Supernatural   2001-08-24     98.0   \n",
       "3           14010832.0                Thriller   2001-08-24     98.0   \n",
       "4           14010832.0         Science Fiction   2001-08-24     98.0   \n",
       "5           14010832.0        Action/Adventure   2001-08-24     98.0   \n",
       "7                  NaN         Erotic thriller         1987    110.0   \n",
       "8                  NaN  Psychological thriller         1987    110.0   \n",
       "9                  NaN                Thriller         1987    110.0   \n",
       "10                 NaN                   Drama         1983    106.0   \n",
       "\n",
       "                                              summary             titles  \n",
       "0   Set in the second half of the 22nd century, th...     Ghosts of Mars  \n",
       "1   Set in the second half of the 22nd century, th...     Ghosts of Mars  \n",
       "2   Set in the second half of the 22nd century, th...     Ghosts of Mars  \n",
       "3   Set in the second half of the 22nd century, th...     Ghosts of Mars  \n",
       "4   Set in the second half of the 22nd century, th...     Ghosts of Mars  \n",
       "5   Set in the second half of the 22nd century, th...     Ghosts of Mars  \n",
       "7   A series of murders of rich young women throug...   White Of The Eye  \n",
       "8   A series of murders of rich young women throug...   White Of The Eye  \n",
       "9   A series of murders of rich young women throug...   White Of The Eye  \n",
       "10  Eva, an upper class housewife, becomes frustra...  A Woman in Flames  "
      ]
     },
     "execution_count": 22,
     "metadata": {},
     "output_type": "execute_result"
    }
   ],
   "source": [
    "#Here we implement the mapping\n",
    "movies_split['genres'].replace(genre_mapper, inplace = True)\n",
    "\n",
    "#We also want to drop duplicate rows where a given movie has both the genre mapped to and from in 'genres'\n",
    "movies_split = movies_split.drop_duplicates()\n",
    "movies_split.head(10)"
   ]
  },
  {
   "cell_type": "markdown",
   "metadata": {},
   "source": [
    "Awesome! Now that we have our data in a format that lends itself to analyses of the genres let's look at how we will define and quantify \"popular\""
   ]
  },
  {
   "cell_type": "markdown",
   "metadata": {},
   "source": [
    "## Establishing a measure of Popularity\n",
    "\n",
    "There are a few different metrics we could use to quantify popularity from the data we are given.\n",
    "- The mean box office revenue across all movies in a genre\n",
    "- The median box office revenue acorss all movies in a genre\n",
    "- The number of times a given genre appears in our dataset\n",
    "\n",
    "The reasoning for this last measure would be that, given the sampling from Wikipedia was random, it roughly represents the actual population of movies. If so, it would make some sense that a more popular genre would have more movies made in that genre than a less popular genre. Hence, the higher the count of occurrences for a given genre, the more popular.\n",
    "\n",
    "To begin let's take a look at the distributions of box office revenues for a few genres to see if mean might be a good statistcal descriptor. Let's look at a few genres with the highest sample sizes."
   ]
  },
  {
   "cell_type": "code",
   "execution_count": 27,
   "metadata": {
    "collapsed": false
   },
   "outputs": [
    {
     "data": {
      "text/plain": [
       "genres\n",
       "Drama               19134\n",
       "Comedy              12140\n",
       "Action/Adventure     8483\n",
       "Romance Film         6666\n",
       "Thriller             6530\n",
       "World cinema         5153\n",
       "Crime Fiction        4275\n",
       "Horror               4082\n",
       "Black-and-white      3731\n",
       "Indie                3668\n",
       "Family Film          3219\n",
       "Short Film           3192\n",
       "Musical              2687\n",
       "Romantic drama       2572\n",
       "Animation            2480\n",
       "Science Fiction      2339\n",
       "Mystery              2119\n",
       "Romantic comedy      2075\n",
       "Fantasy              2012\n",
       "Crime Thriller       1682\n",
       "Name: genres, dtype: int64"
      ]
     },
     "execution_count": 27,
     "metadata": {},
     "output_type": "execute_result"
    }
   ],
   "source": [
    "movies_split['genres'].groupby(movies_split['genres']).count().nlargest(20)"
   ]
  },
  {
   "cell_type": "code",
   "execution_count": 30,
   "metadata": {
    "collapsed": false
   },
   "outputs": [
    {
     "data": {
      "image/png": "[encoded data removed]",
      "text/plain": [
       "<matplotlib.figure.Figure at 0x1c6f3d692e8>"
      ]
     },
     "metadata": {},
     "output_type": "display_data"
    }
   ],
   "source": [
    "horror_revenue = movies_split[movies_split['genres'] == 'Horror']['box_office_revenue'].dropna()\n",
    "\n",
    "comedy_revenue = movies_split[movies_split['genres'] == 'Comedy']['box_office_revenue'].dropna()\n",
    "\n",
    "drama_revenue = movies_split[movies_split['genres'] == 'Drama']['box_office_revenue'].dropna()\n",
    "\n",
    "fig, ax = plt.subplots(1,3, sharex=True)\n",
    "\n",
    "ax[0].hist(horror_revenue, alpha = 0.5, color = 'r')\n",
    "ax[0].set_title('Horror')\n",
    "ax[0].set_ylabel('Counts')\n",
    "ax[0].set_xlabel(\"Revenue\")\n",
    "\n",
    "ax[1].hist(comedy_revenue, alpha = 0.5, color = 'g')\n",
    "ax[1].set_title('Comedy')\n",
    "ax[1].set_ylabel(\"Counts\")\n",
    "ax[1].set_xlabel(\"Revenue\")\n",
    "\n",
    "ax[2].hist(drama_revenue, alpha = 0.5, color = 'b')\n",
    "ax[2].set_title('Drama')\n",
    "ax[2].set_ylabel(\"Counts\")\n",
    "ax[2].set_xlabel(\"Revenue\")\n",
    "\n",
    "plt.tight_layout()\n",
    "plt.show()"
   ]
  },
  {
   "cell_type": "markdown",
   "metadata": {},
   "source": [
    "Taking a look at the plots above we can see that the vast majority of box office revenues are found at the lower end of the range. Also we see that for each genre plotted there are a few significant outliers which indicates that the mean will be greatly affected by these outliers. Because of this we assume that either median or genre-count are better overall descriptions of popularity via box office revenue."
   ]
  },
  {
   "cell_type": "code",
   "execution_count": 31,
   "metadata": {
    "collapsed": false
   },
   "outputs": [
    {
     "data": {
      "text/plain": [
       "genres\n",
       "Space opera                                 475106177.0\n",
       "Movies About Gladiators                     457640427.0\n",
       "Archaeology                                 401128639.0\n",
       "Educational                                 399755374.0\n",
       "Reboot                                      385494555.0\n",
       "Revisionist Fairy Tale                      350367551.5\n",
       "Point of view shot                          248639099.0\n",
       "Sci-Fi Thriller                             214796484.5\n",
       "Archives and records                        209701562.5\n",
       "Period Horror                               206071502.0\n",
       "Sci-Fi Adventure                            196567262.0\n",
       "Private military company                    171407179.0\n",
       "Glamorized Spy Film                         160000000.0\n",
       "Apocalyptic and post-apocalyptic fiction    157091718.0\n",
       "Master Criminal Films                       152945555.5\n",
       "Auto racing                                 151027274.5\n",
       "Live action                                 148947455.0\n",
       "Buddy cop                                   141407024.0\n",
       "School story                                127880241.0\n",
       "Gulf War                                    100860818.0\n",
       "Name: box_office_revenue, dtype: float64"
      ]
     },
     "execution_count": 31,
     "metadata": {},
     "output_type": "execute_result"
    }
   ],
   "source": [
    "#Let's take a look at the top 20 genres and see if they align with out intuition (i.e. Comedy/Drama/etc...)\n",
    "movies_split['box_office_revenue'].groupby(movies_split['genres']).median().nlargest(20)\n"
   ]
  },
  {
   "cell_type": "markdown",
   "metadata": {},
   "source": [
    "This does not match our intuition whatsoever! I have never heard of anyone going to a \"Space Opera, which certainly wouldn't be true for the actual most popular genre.\n",
    "\n",
    "Let's look at count and see what we find."
   ]
  },
  {
   "cell_type": "code",
   "execution_count": 32,
   "metadata": {
    "collapsed": false
   },
   "outputs": [
    {
     "data": {
      "text/plain": [
       "genres\n",
       "Drama               3953\n",
       "Comedy              3051\n",
       "Action/Adventure    2382\n",
       "Thriller            1877\n",
       "Romance Film        1863\n",
       "Crime Fiction       1187\n",
       "Indie                946\n",
       "Romantic comedy      827\n",
       "Family Film          810\n",
       "Horror               749\n",
       "Romantic drama       708\n",
       "Fantasy              676\n",
       "Mystery              652\n",
       "Science Fiction      627\n",
       "Period piece         616\n",
       "Film adaptation      566\n",
       "Crime Thriller       550\n",
       "Musical              523\n",
       "World cinema         522\n",
       "Comedy-drama         516\n",
       "Name: box_office_revenue, dtype: int64"
      ]
     },
     "execution_count": 32,
     "metadata": {},
     "output_type": "execute_result"
    }
   ],
   "source": [
    "movies_split['box_office_revenue'].groupby(movies_split['genres']).count().nlargest(20)"
   ]
  },
  {
   "cell_type": "markdown",
   "metadata": {},
   "source": [
    "This list makes the most sense certainly. 7,587 of our 42,204 movies have non-empty values for box office revenue. The movie industry is all about serving a market just like any other industry and because of this it is easy to see that here in our movie dataset demand dictates supply. By looking at what we are assuming is a random sample of the supply we can reason that frequency of genre occurrance is directly related to consumer demand which is again directly related to \"popularity\". For clarity and finality here are the top 5 most \"popular\" genres assuming demand = popularity in descending order:\n",
    "\n",
    "- Drama\n",
    "- Comedy\n",
    "- Action/Adventure\n",
    "- Romance film\n",
    "- Thriller"
   ]
  },
  {
   "cell_type": "markdown",
   "metadata": {},
   "source": [
    "# Prompt  #2\n",
    "\n",
    "#### What words are characteristic of the movie summaries in those genres?\n",
    "\n",
    "For this prompt I will be:\n",
    "-  First associating each word with a part-of-speech (POS) tag while still in its original context\n",
    "-  Using POS tags to lemmatize words\n",
    "-  Compute Term Frequency - Inverse Document Frequency scores for the lemmatized corpus\n",
    "-  Parse POS distribution for each genre\n",
    "-  Display and interpret top TF-IDF scores\n",
    "-  Explore Latent Dirichlet Allocation (LDA) to determine genres' \"topics\"\n",
    "\n",
    "We start by importing necessary modules and the dataset (Prompts were tackled separately and so we need a different structure with *movies*):"
   ]
  },
  {
   "cell_type": "code",
   "execution_count": 34,
   "metadata": {
    "collapsed": false
   },
   "outputs": [
    {
     "data": {
      "text/html": [
       "<div>\n",
       "<table border=\"1\" class=\"dataframe\">\n",
       "  <thead>\n",
       "    <tr style=\"text-align: right;\">\n",
       "      <th></th>\n",
       "      <th>id</th>\n",
       "      <th>title</th>\n",
       "      <th>release_date</th>\n",
       "      <th>box_office_revenue</th>\n",
       "      <th>runtime</th>\n",
       "      <th>genres</th>\n",
       "      <th>summary</th>\n",
       "    </tr>\n",
       "  </thead>\n",
       "  <tbody>\n",
       "    <tr>\n",
       "      <th>0</th>\n",
       "      <td>0</td>\n",
       "      <td>Ghosts of Mars</td>\n",
       "      <td>2001-08-24</td>\n",
       "      <td>14010832.0</td>\n",
       "      <td>98.0</td>\n",
       "      <td>[Space western, Horror, Supernatural, Thriller...</td>\n",
       "      <td>Set in the second half of the 22nd century, th...</td>\n",
       "    </tr>\n",
       "    <tr>\n",
       "      <th>1</th>\n",
       "      <td>1</td>\n",
       "      <td>White Of The Eye</td>\n",
       "      <td>1987</td>\n",
       "      <td>NaN</td>\n",
       "      <td>110.0</td>\n",
       "      <td>[Erotic thriller, Psychological thriller, Thri...</td>\n",
       "      <td>A series of murders of rich young women throug...</td>\n",
       "    </tr>\n",
       "    <tr>\n",
       "      <th>2</th>\n",
       "      <td>2</td>\n",
       "      <td>A Woman in Flames</td>\n",
       "      <td>1983</td>\n",
       "      <td>NaN</td>\n",
       "      <td>106.0</td>\n",
       "      <td>[Drama]</td>\n",
       "      <td>Eva, an upper class housewife, becomes frustra...</td>\n",
       "    </tr>\n",
       "    <tr>\n",
       "      <th>3</th>\n",
       "      <td>3</td>\n",
       "      <td>The Sorcerer's Apprentice</td>\n",
       "      <td>2002</td>\n",
       "      <td>NaN</td>\n",
       "      <td>86.0</td>\n",
       "      <td>[Adventure, Fantasy, World cinema, Family Film]</td>\n",
       "      <td>Every hundred years, the evil Morgana  returns...</td>\n",
       "    </tr>\n",
       "    <tr>\n",
       "      <th>4</th>\n",
       "      <td>4</td>\n",
       "      <td>Little city</td>\n",
       "      <td>1997-04-04</td>\n",
       "      <td>NaN</td>\n",
       "      <td>93.0</td>\n",
       "      <td>[Romance Film, Ensemble Film, Comedy-drama, Co...</td>\n",
       "      <td>Adam, a San Francisco-based artist who works a...</td>\n",
       "    </tr>\n",
       "  </tbody>\n",
       "</table>\n",
       "</div>"
      ],
      "text/plain": [
       "   id                      title release_date  box_office_revenue  runtime  \\\n",
       "0   0             Ghosts of Mars   2001-08-24          14010832.0     98.0   \n",
       "1   1           White Of The Eye         1987                 NaN    110.0   \n",
       "2   2          A Woman in Flames         1983                 NaN    106.0   \n",
       "3   3  The Sorcerer's Apprentice         2002                 NaN     86.0   \n",
       "4   4                Little city   1997-04-04                 NaN     93.0   \n",
       "\n",
       "                                              genres  \\\n",
       "0  [Space western, Horror, Supernatural, Thriller...   \n",
       "1  [Erotic thriller, Psychological thriller, Thri...   \n",
       "2                                            [Drama]   \n",
       "3    [Adventure, Fantasy, World cinema, Family Film]   \n",
       "4  [Romance Film, Ensemble Film, Comedy-drama, Co...   \n",
       "\n",
       "                                             summary  \n",
       "0  Set in the second half of the 22nd century, th...  \n",
       "1  A series of murders of rich young women throug...  \n",
       "2  Eva, an upper class housewife, becomes frustra...  \n",
       "3  Every hundred years, the evil Morgana  returns...  \n",
       "4  Adam, a San Francisco-based artist who works a...  "
      ]
     },
     "execution_count": 34,
     "metadata": {},
     "output_type": "execute_result"
    }
   ],
   "source": [
    "import nltk\n",
    "from nltk.stem import WordNetLemmatizer, PorterStemmer\n",
    "from nltk.corpus import wordnet\n",
    "from stop_words import get_stop_words\n",
    "from gensim import corpora, models\n",
    "import gensim\n",
    "\n",
    "movies = pd.read_csv(\"movie_data.csv\")\n",
    "\n",
    "movies['genres'] = pd.Series(ast.literal_eval(genres) for genres in movies['genres'])\n",
    "\n",
    "movies.head(5)"
   ]
  },
  {
   "cell_type": "markdown",
   "metadata": {},
   "source": [
    "## POS Tags\n",
    "\n",
    "First we want to group summaries of the same genre together. Note there is no reasonable way for us to create disjoint groups, hence we allow a movie to belong to more than one genre grouping. \n",
    "\n",
    "In this process we also want to take the opportunity to add part-of-speech (POS) tags to each word. We can only determine an individual word's speech tag (e.g. Verb, Adjective, etc) when we observe it in context. As linguist J.R. Firth said, \"*You shall know a word by the company it keeps.*\" The POS tags will allow us to lemmatize the words (Further explained below)."
   ]
  },
  {
   "cell_type": "code",
   "execution_count": 35,
   "metadata": {
    "collapsed": true
   },
   "outputs": [],
   "source": [
    "unique_genres = [\"Drama\", \"Comedy\", \"Action/Adventure\", \"Romance Film\", \"Thriller\"]\n",
    "\n",
    "genres_list = {genre: [] for genre in unique_genres}\n",
    "\n",
    "for genre in unique_genres:\n",
    "    for genres, summary in zip(movies['genres'], movies['summary']):\n",
    "        \n",
    "        if genre in genres:\n",
    "            \n",
    "            #NLTK's pos_tag returns the word and its POS tag\n",
    "            genres_list[genre].append(nltk.pos_tag(summary.split()))"
   ]
  },
  {
   "cell_type": "markdown",
   "metadata": {},
   "source": [
    "The following functions help with the necessary translations required when using the NLTK's lemmatizer."
   ]
  },
  {
   "cell_type": "code",
   "execution_count": 36,
   "metadata": {
    "collapsed": true
   },
   "outputs": [],
   "source": [
    "#get_wordnet_pos maps tags from NLTK's pos_tag to tags utilized in the lemmatizing method.\n",
    "def get_wordnet_pos(treebank_tag):\n",
    "\n",
    "    if treebank_tag.startswith('J'):\n",
    "        return wordnet.ADJ\n",
    "    elif treebank_tag.startswith('V'):\n",
    "        return wordnet.VERB\n",
    "    elif treebank_tag.startswith('N'):\n",
    "        return wordnet.NOUN\n",
    "    elif treebank_tag.startswith('R'):\n",
    "        return wordnet.ADV\n",
    "    else:\n",
    "        return None\n",
    "    \n",
    "#Used to associate lemmatized tag object to literal string name\n",
    "def tag_helper(word,tag):\n",
    "    wnl = WordNetLemmatizer()\n",
    "    wntag = get_wordnet_pos(tag)\n",
    "    \n",
    "    #Not supply tag in case of None\n",
    "    if wntag is None:\n",
    "        lemma = wnl.lemmatize(word)\n",
    "        tb_tag = \"\"\n",
    "        \n",
    "    #Assigning a variable to the english equivalent of our tags\n",
    "    else:\n",
    "        lemma = wnl.lemmatize(word, pos = wntag)\n",
    "        if wntag == wordnet.ADJ:\n",
    "            tb_tag = \"Adjective\"\n",
    "        elif wntag == wordnet.VERB:\n",
    "            tb_tag = \"Verb\"\n",
    "        elif wntag == wordnet.NOUN:\n",
    "            tb_tag = \"Noun\"\n",
    "        elif wntag == wordnet.ADV:\n",
    "            tb_tag = \"Adverb\"\n",
    "        elif wntag is None:\n",
    "            tb_tag = \"\"\n",
    "            \n",
    "    return lemma, tb_tag"
   ]
  },
  {
   "cell_type": "markdown",
   "metadata": {},
   "source": [
    "## Lemmatization\n",
    "\n",
    "Now we use lemmatization to bring words up a level in abstraction and away from their more specific use. By lemmatizing a corpus of words we reduce the morphological variation. For instance, \"better\" becomes \"good\", \"running\" and \"ran\" become \"run\", \"frustrated\" maps to \"frustrate\", and so on. By aggregating words into their base form we can come to more accurate characterizations through the term-frequency inverse document-frequency (TF-IDF) score. \n",
    "\n",
    "Further, since parts-of-speech are necessary for lemmatization we are able to characterize genres' words by POS distribution. (e.g. Is the proportion of verbs used in Action/Adventure different than Comedy?)"
   ]
  },
  {
   "cell_type": "code",
   "execution_count": 38,
   "metadata": {
    "collapsed": false
   },
   "outputs": [
    {
     "name": "stdout",
     "output_type": "stream",
     "text": [
      "Number of words converted to their lemmatized form: 2743978\n"
     ]
    }
   ],
   "source": [
    "#Genre name is key with list of lemmed summaries (in list form)\n",
    "lem_dict = {} \n",
    "\n",
    "#Same structure as lem_dict but with POS\n",
    "tag_dict ={} \n",
    "\n",
    "#We count the number of times we successfully map a word to its lemmatized form just to satisfy curiosity\n",
    "lem_count = 0\n",
    "for genre,tup_list in genres_list.items():\n",
    "    \n",
    "    #list that contains all lemmed summaries for a given genre\n",
    "    temp_lem = [] \n",
    "    temp_pos = []\n",
    "    for summary in tup_list:\n",
    "            \n",
    "        #list of lemmed words for a given summary\n",
    "        summary_lem = [] \n",
    "        summary_pos = []\n",
    "\n",
    "        for tup in summary:\n",
    "\n",
    "            _word, _tag = tup\n",
    "            #Leave out proper nouns (NNP), plural proper nouns (NNPS), and personal pronouns (PRP)\n",
    "            if str(_tag) != \"NNP\" or str(_tag) != \"NNPS\" or str(_tag) != \"PRP\" or str(_tag) != \"PRP$\":\n",
    "                #We let compound words stay as is (e.g. chimney-sweep)\n",
    "                _word = _word.lower().replace(\".\", \"\").strip('\"!,')\n",
    "\n",
    "                #Performs lemmatization and converts POS tag into full form (e.g. \"Adjective\", \"Noun\", etc)\n",
    "                lemma, tag = tag_helper(_word, _tag) \n",
    "\n",
    "                #Counter to see how many words we changed\n",
    "                if lemma != _word:\n",
    "                    lem_count += 1\n",
    "                    \n",
    "                if lemma != \"\":    \n",
    "                    summary_lem.append(lemma)\n",
    "                    summary_pos.append(tag)\n",
    "\n",
    "        temp_lem.append(summary_lem)\n",
    "        temp_pos.append(summary_pos)\n",
    "\n",
    "    lem_dict[genre] = temp_lem\n",
    "    tag_dict[genre] = temp_pos\n",
    "    \n",
    "print(\"Number of words converted to their lemmatized form:\", lem_count)     "
   ]
  },
  {
   "cell_type": "markdown",
   "metadata": {},
   "source": [
    "## TF-IDF\n",
    "\n",
    "We can now compute the TF-IDF score for the lemmas. We start by computing term frequency of each lemma across all summaries and follow up by counting how many summaries (\"documents\") each lemma appears in. We use raw term count rather than actual term frequency as we are only concered with ranking and so they are proportionally equivalent.\n",
    "\n",
    "__Note__: In the previous code block we threw out all proper nouns, singular and plural, and also all personal pronouns. Since movie characters' names can be used numerous times in an individual movie's summary but not in any other movie's summary it necessarily has a high TF-IDF score. Without discarding proper nouns much of the top n highest TF-IDF scores belonged to words that did not help us characterize genres whatsoever."
   ]
  },
  {
   "cell_type": "code",
   "execution_count": 39,
   "metadata": {
    "collapsed": false
   },
   "outputs": [
    {
     "name": "stdout",
     "output_type": "stream",
     "text": [
      "Total unique words in corpus: 177611\n"
     ]
    }
   ],
   "source": [
    "#Building vocab set now helps us simply do dict comprehensions and slightly simplifies tf and df dict creation\n",
    "vocab = set()\n",
    "for genre, summaries in lem_dict.items():\n",
    "    for summary in summaries:\n",
    "        for word in summary:\n",
    "            vocab.add(word)\n",
    "            \n",
    "vocab = list(vocab)\n",
    "\n",
    "\n",
    "tf = {genre: {word: 0 for word in vocab} for genre in unique_genres}\n",
    "df = {genre: {word: 0 for word in vocab} for genre in unique_genres}\n",
    "\n",
    "for genre, summaries in lem_dict.items():\n",
    "    for summary in summaries:\n",
    "        \n",
    "        #We create a temp docuement frequency list to ensure that even if a word shows up multiple times in...\n",
    "        #...a document it is only counted in df once\n",
    "        temp_df = []\n",
    "        \n",
    "        for word in summary:\n",
    "            tf[genre][word] += 1\n",
    "            \n",
    "            #Had we not used temp_df here we would just be counting like tf\n",
    "            if word not in temp_df:\n",
    "                df[genre][word] += 1\n",
    "                temp_df.append(word)\n",
    "                \n",
    "tf_idf = {genre: {word: 0 for word in vocab} for genre in unique_genres}\n",
    "\n",
    "for genre in unique_genres:\n",
    "    for word in vocab:\n",
    "        \n",
    "        #We use 1 + the number of documents a word has appeared to avoid division by 0 in the idf term\n",
    "        tf_idf[genre][word] = tf[genre][word] * np.log(len(lem_dict[genre]) / (1 + df[genre][word]))\n",
    "        \n",
    "print(\"Total unique words in corpus:\",len(vocab))"
   ]
  },
  {
   "cell_type": "markdown",
   "metadata": {},
   "source": [
    "Before dissecting TF-IDF scores let's consider what the part-of-speech make-up is for the genres. When looking at the distribution of parts-of-speech across genres it's best to look at intra-distributions proportionally considering there is large variation in number of summaries."
   ]
  },
  {
   "cell_type": "code",
   "execution_count": 40,
   "metadata": {
    "collapsed": false
   },
   "outputs": [
    {
     "name": "stdout",
     "output_type": "stream",
     "text": [
      "Romance Film:\n",
      "Adjective :  10.15%\n",
      "Noun :  52.26%\n",
      "Adverb :  6.55%\n",
      "Verb :  31.05%\n",
      "...\n",
      "...\n",
      "Comedy:\n",
      "Adjective :  10.01%\n",
      "Noun :  53.18%\n",
      "Adverb :  6.5%\n",
      "Verb :  30.32%\n",
      "...\n",
      "...\n",
      "Drama:\n",
      "Adjective :  10.42%\n",
      "Noun :  52.93%\n",
      "Adverb :  6.19%\n",
      "Verb :  30.47%\n",
      "...\n",
      "...\n",
      "Action/Adventure:\n",
      "Adjective :  9.39%\n",
      "Noun :  54.64%\n",
      "Adverb :  5.67%\n",
      "Verb :  30.3%\n",
      "...\n",
      "...\n",
      "Thriller:\n",
      "Adjective :  9.52%\n",
      "Noun :  53.32%\n",
      "Adverb :  5.92%\n",
      "Verb :  31.23%\n",
      "...\n",
      "...\n"
     ]
    }
   ],
   "source": [
    "pos_counts = {genre: {} for genre in unique_genres}\n",
    "\n",
    "#Building out the totals for each part-of-speech for each genre\n",
    "for genre in unique_genres:\n",
    "    for tags in tag_dict[genre]:\n",
    "        for tag in tags:\n",
    "            if tag != \"\":\n",
    "                pos_counts[genre][tag] = pos_counts[genre].get(tag, 0) + 1\n",
    "\n",
    "#Here we normalize the totals so we can compare proportions across genres\n",
    "for genre, pos_dict in pos_counts.items():\n",
    "    temp_total = 0\n",
    "    \n",
    "    #Summing pos counts\n",
    "    for parts in pos_dict.values():\n",
    "        temp_total += parts\n",
    "    \n",
    "    #Normalizing\n",
    "    for types in pos_dict.keys():\n",
    "        pos_counts[genre][types] = pos_counts[genre][types] / temp_total\n",
    "    \n",
    "for genre, types in pos_counts.items():\n",
    "    print(\"{}:\".format(genre))\n",
    "    \n",
    "    for pos, res in types.items():\n",
    "        print(pos, \": \", \"{}%\".format(round(100*res,2)))\n",
    "        \n",
    "    print(\"...\")\n",
    "    print(\"...\")       "
   ]
  },
  {
   "cell_type": "markdown",
   "metadata": {},
   "source": [
    "Perhaps not so surprisingly there are no significant differences across genres in types of speech used. We therefore must rely and look to the words themselves to differentiate and characterize genres.\n",
    "***\n",
    "Now back to the TF-IDF scores. Let's look at the highest scoring 30 words from each genre."
   ]
  },
  {
   "cell_type": "code",
   "execution_count": 41,
   "metadata": {
    "collapsed": true
   },
   "outputs": [],
   "source": [
    "top_words = {genre: None for genre in unique_genres}\n",
    "\n",
    "for genre in unique_genres:\n",
    "    temp_top = sorted(tf_idf[genre], key=tf_idf[genre].get, reverse=True)[:100]\n",
    "    temp_top = [word for word in temp_top if word != \"\"]\n",
    "    top_words[genre] = temp_top\n",
    "\n",
    "#This forces jupyter to display all rows\n",
    "pd.set_option('display.max_rows', None)\n",
    "\n",
    "top_100 = pd.DataFrame.from_dict(top_words)\n",
    "top_100;"
   ]
  },
  {
   "cell_type": "markdown",
   "metadata": {},
   "source": [
    "Looking at the dataframe below we can see some interesting results. To save the reader from some scrolling here are noteworthy words that seem to characterize the genres in line with our intuition.\n",
    "\n",
    "Note the listings are given in descending order according to TF-IDF rank.\n",
    "***\n",
    " - __Action/Adventure__: - Kill, - Police, - Gang, - Fight, - Shoot, - Escape, - Attack, - Money, - Agent, - Gun, - Order, - Force, - Ship, - Officer, - Death, and even a very specific Action/Adeventure hero - Bond.\n",
    "<br><br> \n",
    " - __Comedy__: - Leave, - Kill, - Family, - Friend, - House, - Love, - School, - Money, - Mother, - Work, - Help, - Bug\n",
    "<br><br>\n",
    " - __Drama__: - Kill, - Father, - Leave, - Love, - Family, - Mother, - Home, - House, - Return, - Friend, - Son, - Life, - Police, - Child, - Work, - Wife, - Money, - School, - Daughter\n",
    "<br><br>\n",
    " - __Romance Film__: - Father, - Leave, - Love, - Family, - Mother, - Return, - Friend, - Marry, - Home, - House, - Kill, - Life, - Time, - Relationship, - Son, - Help\n",
    "<br><br>\n",
    " - __Thriller__: - Kill, - Police, - House, - Car, - Leave, - Escape, - Shoot, - Father, - Murder, - Money, - Attack, - Return, - Home, - Meet, -Body, - Reveal, - Time, - Death, - Run, - Family, - Gun, - Mother"
   ]
  },
  {
   "cell_type": "markdown",
   "metadata": {},
   "source": [
    "Action/Adventure and Thriller both seem to be characterized well as genres by their high-scoring TF-IDF words. It would come as no surprise for a Action/Adventure summary to mention police, gangs, fights, killings, shots, escapes, attacks, agents, and etc. These words actually seem to do a relatively good job describing some of the genres in toto.\n",
    "\n",
    "Though it is obvious some genres highlighted words seem to match their respective genre better than others. Comedy for instance doesn't really have any truly defining characteristic words for their summaries. Which makes some sense seeing as how comedies plots are less constrained than say a Thriller's is. I would be hard-pressed to come up with defining general characteristics of a comedy's summary.\n",
    "\n",
    "As seen in the list $alike$ below, every genre actually shares 65 of their 100 characterizing words. Most of these words are easy to understand being used frequently in descriptions of any stories. Yet some of them convey information about what summaries overall, and hence the movies themselves, are about. Generally these genres contain themes about friendship, killing, new meetings, returning to what once was, and families. Or at least that's what these characterizing words, along with a vague understanding of movie narratives, point to."
   ]
  },
  {
   "cell_type": "code",
   "execution_count": 42,
   "metadata": {
    "collapsed": false
   },
   "outputs": [
    {
     "name": "stdout",
     "output_type": "stream",
     "text": [
      "{'which', 'their', 'new', 'time', 'do', 'find', 'give', 'be', 'all', 'they', 'out', 'one', 'make', 'while', 'two', 'by', 'see', 'back', 'help', 'an', 'about', 'get', 'will', 'return', 'then', 'her', 'but', 'before', 'where', 'go', 'kill', 'from', 'not', 'father', 'that', 'his', 'man', 'she', 'up', 'when', 'at', 'after', 'into', 'off', 'have', 'with', 'this', 'begin', 'leave', 'it', 'film', 'family', 'tell', 'he', 'meet', 'on', 'them', 'him', 'take', 'who', 'for', 'come', 'try', 'friend'}\n"
     ]
    }
   ],
   "source": [
    "alike = set(top_100[unique_genres[0]])\n",
    "\n",
    "for i in range(len(unique_genres)):\n",
    "    if i != len(unique_genres) - 1:\n",
    "        alike = alike.intersection(set(top_100[unique_genres[i + 1]]))\n",
    "        \n",
    "print(alike)"
   ]
  },
  {
   "cell_type": "markdown",
   "metadata": {},
   "source": [
    "## LDA\n",
    "\n",
    "Now let's explore the genres using Latent Dirichlet Allocation (LDA). LDA assumes documents are produced from a mixture of topics. Those topics then generate words based on their probability distribution. So since LDA assumes that a document is created with certain topic proportion rules, its goal is to backtrack and determine which topics would lead to the given documents."
   ]
  },
  {
   "cell_type": "code",
   "execution_count": 43,
   "metadata": {
    "collapsed": true
   },
   "outputs": [],
   "source": [
    "en_stop = get_stop_words('en')\n",
    "\n",
    "#For LDA we take the lemmed summaries from above and simply remove stop-words\n",
    "lda_dict = {}\n",
    "for genre, summaries in lem_dict.items():\n",
    "    temp_summaries = []\n",
    "    for summary in summaries:\n",
    "        temp_summary = []\n",
    "        for word in summary:\n",
    "            if word not in en_stop and word != \"\":\n",
    "                temp_summary.append(word)\n",
    "                \n",
    "        temp_summaries.append(temp_summary)\n",
    "        \n",
    "    lda_dict[genre] = temp_summaries"
   ]
  },
  {
   "cell_type": "code",
   "execution_count": 44,
   "metadata": {
    "collapsed": true
   },
   "outputs": [],
   "source": [
    "dict_dict = {}\n",
    "corpus_dict = {}\n",
    "ldamodels = []\n",
    "\n",
    "for genre in unique_genres:\n",
    "    \n",
    "    #Dictionary traverses summaries assigning a unique id to each token while collecting word counts\n",
    "    dict_dict[genre] = corpora.Dictionary(lda_dict[genre])\n",
    "    \n",
    "    #Here we create a bag-of-words model from our Dictionary structures just created\n",
    "    corpus_dict[genre] = [dict_dict[genre].doc2bow(text) for text in lda_dict[genre]]\n",
    "    \n",
    "    #Our corpus_dict contains Document-term matrices for each genre. We now find the LDA models\n",
    "    ldamodels.append(gensim.models.ldamodel.LdaModel(corpus_dict[genre], num_topics = 3, \n",
    "                                                         id2word = dict_dict[genre], passes = 20))\n",
    "    "
   ]
  },
  {
   "cell_type": "markdown",
   "metadata": {},
   "source": [
    "The following results show us possible topic distribution models used to create the summaries found in our data. Though largely ambiguous, the models are slightly telling and somewhat relate to our intuitive understanding of these genres.\n",
    "\n",
    "For example in Action/Adventure we see \"kill\", \"take\", \"one\" and \"find\" show up, which makes sense for a vague description for many movies that fall under this genre. A character must \"find\" some treasure, \"take\" back some secret plans from the enemy, or \"kill\" the villain to save the day. \"Kill\", \"police\", \"find\", and \"take\" seems reasonable for a Thriller by this same logic. Also note under Romance Film each of the topics contains \"love\", which we should definitely expect for such a genre."
   ]
  },
  {
   "cell_type": "code",
   "execution_count": 45,
   "metadata": {
    "collapsed": false
   },
   "outputs": [
    {
     "name": "stdout",
     "output_type": "stream",
     "text": [
      "Drama\n",
      "[(0, '0.006*\"go\" + 0.006*\"tell\" + 0.006*\"find\" + 0.005*\"get\"'), (1, '0.008*\"love\" + 0.006*\"get\" + 0.006*\"life\" + 0.006*\"family\"'), (2, '0.006*\"kill\" + 0.004*\"take\" + 0.004*\"war\" + 0.004*\"one\"')]\n",
      "...\n",
      "...\n",
      "Comedy\n",
      "[(0, '0.005*\"film\" + 0.004*\"one\" + 0.004*\"take\" + 0.004*\"find\"'), (1, '0.005*\"back\" + 0.005*\"find\" + 0.005*\"get\" + 0.005*\"take\"'), (2, '0.008*\"get\" + 0.007*\"go\" + 0.006*\"tell\" + 0.005*\"find\"')]\n",
      "...\n",
      "...\n",
      "Action/Adventure\n",
      "[(0, '0.006*\"kill\" + 0.005*\"take\" + 0.004*\"find\" + 0.004*\"one\"'), (1, '0.007*\"kill\" + 0.006*\"take\" + 0.005*\"find\" + 0.005*\"go\"'), (2, '0.007*\"kill\" + 0.005*\"take\" + 0.005*\"find\" + 0.004*\"fight\"')]\n",
      "...\n",
      "...\n",
      "Romance Film\n",
      "[(0, '0.005*\"love\" + 0.004*\"take\" + 0.004*\"return\" + 0.004*\"find\"'), (1, '0.012*\"love\" + 0.009*\"get\" + 0.006*\"go\" + 0.005*\"marry\"'), (2, '0.006*\"go\" + 0.006*\"get\" + 0.006*\"tell\" + 0.005*\"find\"')]\n",
      "...\n",
      "...\n",
      "Thriller\n",
      "[(0, '0.008*\"kill\" + 0.004*\"take\" + 0.004*\"find\" + 0.004*\"escape\"'), (1, '0.008*\"find\" + 0.007*\"kill\" + 0.006*\"tell\" + 0.006*\"go\"'), (2, '0.007*\"kill\" + 0.006*\"police\" + 0.005*\"get\" + 0.005*\"find\"')]\n",
      "...\n",
      "...\n"
     ]
    }
   ],
   "source": [
    "for i in range(len(ldamodels)):\n",
    "    print(unique_genres[i])\n",
    "    print(ldamodels[i].print_topics(num_topics = 3, num_words = 4))\n",
    "    print(\"...\")\n",
    "    print(\"...\")"
   ]
  },
  {
   "cell_type": "markdown",
   "metadata": {},
   "source": [
    "# Prompt #3\n",
    "\n",
    "#### An empirical observation known as Zipf’s law is often used to describe the distribution of word frequencies in text corpora. Do you see evidence of Zipf’s law in the summaries?\n",
    "\n",
    "For this prompt I will be:\n",
    "\n",
    " - Tokenizing the corpus of summaries\n",
    " - Finding frequency counts for each word\n",
    " - Enumerating and ordering those frequency counts\n",
    " - Looking at both qualitative and quantitave measures in search of evidence for the presence of Zipfian distribution\n",
    " \n",
    "First note that Zipf's law states the a word's frequency is inversely proportional to its rank in the frequency table. E.g. if and is rank 3 is occurs 1/3 the amount of times that the highest ranked word occurs. This case represents when the parameter s = 1 where occurrance is $1/n^{s}$ amount the highest rank. Other datasets see a Zipfian distribution with differing s."
   ]
  },
  {
   "cell_type": "code",
   "execution_count": 21,
   "metadata": {
    "collapsed": false
   },
   "outputs": [],
   "source": [
    "#Our last necessary import!\n",
    "from scipy.stats import kstest\n",
    "from scipy import stats"
   ]
  },
  {
   "cell_type": "markdown",
   "metadata": {},
   "source": [
    "To begin let's make a dictionary with words as keys and total count across the entire corpus as values. We use the same tokenizer as in our first question."
   ]
  },
  {
   "cell_type": "code",
   "execution_count": 2,
   "metadata": {
    "collapsed": true
   },
   "outputs": [],
   "source": [
    "def tokenizer(blob):\n",
    "    #translator removes certain punctuation for us, though more must be included in assignment of tokenized\n",
    "    translator = str.maketrans({key: None for key in string.punctuation})\n",
    "    tokenized = blob.lower().replace(\"-\",\" \").strip('\"-\\'«').translate(translator).split()\n",
    "    \n",
    "    return tokenized"
   ]
  },
  {
   "cell_type": "code",
   "execution_count": 3,
   "metadata": {
    "collapsed": false
   },
   "outputs": [],
   "source": [
    "counts = {}\n",
    "\n",
    "#Creating a simple dict with words as keys with counts for values\n",
    "for summary in movies['summary']:\n",
    "    for word in tokenizer(summary):\n",
    "        counts[word] = counts.get(word, 0) + 1"
   ]
  },
  {
   "cell_type": "markdown",
   "metadata": {
    "collapsed": true
   },
   "source": [
    "Now dictionaries are inherently orderless but we need an ordering to establish rank. We can do this by creating a list of $(rank, word, count)$ tuples starting with rank 1 and descending all the way down to rank $len(counts)$.\n",
    "\n",
    "We also create \"zipf\" which is a list constructed to perfectly follow Zipf's distribution using our corpus and starting with the starting value found in our data."
   ]
  },
  {
   "cell_type": "code",
   "execution_count": 4,
   "metadata": {
    "collapsed": false
   },
   "outputs": [],
   "source": [
    "#sorted ensures we see ordered data. This ordering is preserved in future list comprehensions\n",
    "ordered = [(n + 1, word, counts[word]) for n, word in enumerate(sorted(counts, key=counts.get, reverse = True))]\n",
    "\n",
    "zipf = [(n + 1, word, max(counts.values())/(n + 1)) \n",
    "        for n, word in enumerate(sorted(counts, key=counts.get, reverse = True))]"
   ]
  },
  {
   "cell_type": "markdown",
   "metadata": {},
   "source": [
    "Before we get into any quantitative measures for evidence of Zipf's law occurring in our data, first let's look at log-normed plots of both $ordered$ and $zipf$ to see if they look anywhere close to each other."
   ]
  },
  {
   "cell_type": "code",
   "execution_count": 7,
   "metadata": {
    "collapsed": false
   },
   "outputs": [
    {
     "data": {
      "image/png": "[encoded data removed]",
      "text/plain": [
       "<matplotlib.figure.Figure at 0x28e202f9390>"
      ]
     },
     "metadata": {},
     "output_type": "display_data"
    }
   ],
   "source": [
    "x_ordered = np.log([xs[0] for xs in ordered])\n",
    "y_ordered = np.log([ys[2] for ys in ordered])\n",
    "\n",
    "x_perfect = np.log([xs[0] for xs in zipf])\n",
    "y_perfect = np.log([ys[2] for ys in zipf])\n",
    "\n",
    "plt.title(\"Zipf Comparison Chart\")\n",
    "plt.xlabel(\"Log Rank\")\n",
    "plt.ylabel(\"Log Frequency Count\")\n",
    "\n",
    "plt.plot(x_ordered, y_ordered)\n",
    "plt.plot(x_perfect, y_perfect)\n",
    "plt.legend([\"Empirical\", \"Perfect Zipf\"], loc = \"upper right\")\n",
    "plt.show()"
   ]
  },
  {
   "cell_type": "markdown",
   "metadata": {},
   "source": [
    "Good news so far! Simply looking at the plot seems to give us an indication that our data follows Zipf's distribution.\n",
    "\n",
    "Quantitatively establishing this relation is somewhat trickier though. Despite being my first impulse, running a regression on the logged empirical data and testing the alternative hypothesis that $\\hat{\\beta}_{1} = -1$ is actually not a statistically sound method according to the literature. See articles *Testing for Zipf’s law: A common pitfall* or *A simple* and *efficient test for Zipf’s law* from Economic Letters.\n",
    "\n",
    "Instead our best route is to use the two-sided __[Kolmogorov–Smirnov test](hhttps://en.m.wikipedia.org/wiki/Kolmogorov%E2%80%93Smirnov_test)__ (KS). The two-sided KS test quantifies the distance between two empirical distribution functions. Essentially we are testing if two sets of data were drawn from the same distribution. For our two samples we use the ordered counts list created above from the corpus of summaries and the manufactured ordered list that perfectly relates our data as the inverse of its rank. I.e. 2nd index of tuples found in lists $ordered$ and $zipf$ or the data that constitutes the blue and green lines in the above plot.\n",
    "\n",
    "The null hypothesis for the KS test is that the samples *are* drawn from the same samples."
   ]
  },
  {
   "cell_type": "code",
   "execution_count": 20,
   "metadata": {
    "collapsed": false
   },
   "outputs": [
    {
     "data": {
      "text/plain": [
       "Ks_2sampResult(statistic=0.6165939602037658, pvalue=0.0)"
      ]
     },
     "execution_count": 20,
     "metadata": {},
     "output_type": "execute_result"
    }
   ],
   "source": [
    "stats.ks_2samp([xs[2] for xs in ordered], [int(xs[2]) for xs in zipf])"
   ]
  },
  {
   "cell_type": "markdown",
   "metadata": {},
   "source": [
    "Unfortunately according to the two-sided KS test we reject the null hypothesis with high confidence considering the p-value essentially equals 0. It's important to keep in mind that even though our log-log plot seems to show something very close to a Zipf distribution it's not too difficult to get log-log plots to look very close for varying distributions.\n",
    "\n",
    "Also when we actually look at the empirical counts we can visually tell that it doesn't seem to be very Zipf-like. Early on it has a couple substantial jumps but slows down very quickly and the vast majority of the data actually sees very small differences from one rank to the next."
   ]
  }
 ],
 "metadata": {
  "anaconda-cloud": {},
  "kernelspec": {
   "display_name": "Python [Root]",
   "language": "python",
   "name": "Python [Root]"
  },
  "language_info": {
   "codemirror_mode": {
    "name": "ipython",
    "version": 3
   },
   "file_extension": ".py",
   "mimetype": "text/x-python",
   "name": "python",
   "nbconvert_exporter": "python",
   "pygments_lexer": "ipython3",
   "version": "3.5.4"
  }
 },
 "nbformat": 4,
 "nbformat_minor": 0
}
