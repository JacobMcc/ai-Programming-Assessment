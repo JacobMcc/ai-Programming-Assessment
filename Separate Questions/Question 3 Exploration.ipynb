{
 "cells": [
  {
   "cell_type": "markdown",
   "metadata": {},
   "source": [
    "# Prompt #3\n",
    "\n",
    "#### An empirical observation known as Zipf’s law is often used to describe the distribution of word frequencies in text corpora. Do you see evidence of Zipf’s law in the summaries?\n",
    "\n",
    "For this prompt I will be:\n",
    "\n",
    " - Tokenizing the corpus of summaries\n",
    " - Finding frequency counts for each word\n",
    " - Enumerating and ordering those frequency counts\n",
    " - Looking at both qualitative and quantitave measures in search of evidence for the presence of Zipfian distribution"
   ]
  },
  {
   "cell_type": "markdown",
   "metadata": {},
   "source": [
    "First note that Zipf's law states the a word's frequency is inversely proportional to its rank in the frequency table. E.g. if and is rank 3 is occurs 1/3 the amount of times that the highest ranked word occurs. This case represents when the parameter s = 1 where occurrance is $1/n^{s}$ amount the highest rank. Other datasets see a Zipfian distribution with differing s."
   ]
  },
  {
   "cell_type": "code",
   "execution_count": 158,
   "metadata": {
    "collapsed": false
   },
   "outputs": [
    {
     "name": "stderr",
     "output_type": "stream",
     "text": [
      "C:\\Users\\jacobmcc\\Anaconda3\\lib\\site-packages\\gensim\\utils.py:1197: UserWarning: detected Windows; aliasing chunkize to chunkize_serial\n",
      "  warnings.warn(\"detected Windows; aliasing chunkize to chunkize_serial\")\n"
     ]
    },
    {
     "data": {
      "text/html": [
       "<div>\n",
       "<table border=\"1\" class=\"dataframe\">\n",
       "  <thead>\n",
       "    <tr style=\"text-align: right;\">\n",
       "      <th></th>\n",
       "      <th>id</th>\n",
       "      <th>title</th>\n",
       "      <th>release_date</th>\n",
       "      <th>box_office_revenue</th>\n",
       "      <th>runtime</th>\n",
       "      <th>genres</th>\n",
       "      <th>summary</th>\n",
       "    </tr>\n",
       "  </thead>\n",
       "  <tbody>\n",
       "    <tr>\n",
       "      <th>0</th>\n",
       "      <td>0</td>\n",
       "      <td>Ghosts of Mars</td>\n",
       "      <td>2001-08-24</td>\n",
       "      <td>14010832.0</td>\n",
       "      <td>98.0</td>\n",
       "      <td>[Space western, Horror, Supernatural, Thriller...</td>\n",
       "      <td>Set in the second half of the 22nd century, th...</td>\n",
       "    </tr>\n",
       "    <tr>\n",
       "      <th>1</th>\n",
       "      <td>1</td>\n",
       "      <td>White Of The Eye</td>\n",
       "      <td>1987</td>\n",
       "      <td>NaN</td>\n",
       "      <td>110.0</td>\n",
       "      <td>[Erotic thriller, Psychological thriller, Thri...</td>\n",
       "      <td>A series of murders of rich young women throug...</td>\n",
       "    </tr>\n",
       "    <tr>\n",
       "      <th>2</th>\n",
       "      <td>2</td>\n",
       "      <td>A Woman in Flames</td>\n",
       "      <td>1983</td>\n",
       "      <td>NaN</td>\n",
       "      <td>106.0</td>\n",
       "      <td>[Drama]</td>\n",
       "      <td>Eva, an upper class housewife, becomes frustra...</td>\n",
       "    </tr>\n",
       "    <tr>\n",
       "      <th>3</th>\n",
       "      <td>3</td>\n",
       "      <td>The Sorcerer's Apprentice</td>\n",
       "      <td>2002</td>\n",
       "      <td>NaN</td>\n",
       "      <td>86.0</td>\n",
       "      <td>[Adventure, Fantasy, World cinema, Family Film]</td>\n",
       "      <td>Every hundred years, the evil Morgana  returns...</td>\n",
       "    </tr>\n",
       "    <tr>\n",
       "      <th>4</th>\n",
       "      <td>4</td>\n",
       "      <td>Little city</td>\n",
       "      <td>1997-04-04</td>\n",
       "      <td>NaN</td>\n",
       "      <td>93.0</td>\n",
       "      <td>[Romance Film, Ensemble Film, Comedy-drama, Co...</td>\n",
       "      <td>Adam, a San Francisco-based artist who works a...</td>\n",
       "    </tr>\n",
       "  </tbody>\n",
       "</table>\n",
       "</div>"
      ],
      "text/plain": [
       "   id                      title release_date  box_office_revenue  runtime  \\\n",
       "0   0             Ghosts of Mars   2001-08-24          14010832.0     98.0   \n",
       "1   1           White Of The Eye         1987                 NaN    110.0   \n",
       "2   2          A Woman in Flames         1983                 NaN    106.0   \n",
       "3   3  The Sorcerer's Apprentice         2002                 NaN     86.0   \n",
       "4   4                Little city   1997-04-04                 NaN     93.0   \n",
       "\n",
       "                                              genres  \\\n",
       "0  [Space western, Horror, Supernatural, Thriller...   \n",
       "1  [Erotic thriller, Psychological thriller, Thri...   \n",
       "2                                            [Drama]   \n",
       "3    [Adventure, Fantasy, World cinema, Family Film]   \n",
       "4  [Romance Film, Ensemble Film, Comedy-drama, Co...   \n",
       "\n",
       "                                             summary  \n",
       "0  Set in the second half of the 22nd century, th...  \n",
       "1  A series of murders of rich young women throug...  \n",
       "2  Eva, an upper class housewife, becomes frustra...  \n",
       "3  Every hundred years, the evil Morgana  returns...  \n",
       "4  Adam, a San Francisco-based artist who works a...  "
      ]
     },
     "execution_count": 158,
     "metadata": {},
     "output_type": "execute_result"
    }
   ],
   "source": [
    "import pandas as pd\n",
    "import numpy as np\n",
    "from scipy.stats import kstest\n",
    "import string\n",
    "import matplotlib.pyplot as plt\n",
    "%matplotlib inline\n",
    "\n",
    "movies = pd.read_csv(\"movie_data.csv\")\n",
    "\n",
    "movies.head(5)"
   ]
  },
  {
   "cell_type": "markdown",
   "metadata": {},
   "source": [
    "To begin let's make a dictionary with words as keys and total count across the entire corpus as values. We use the same tokenizer as in our first question."
   ]
  },
  {
   "cell_type": "code",
   "execution_count": 165,
   "metadata": {
    "collapsed": true
   },
   "outputs": [],
   "source": [
    "def tokenizer(blob):\n",
    "    \n",
    "    translator = str.maketrans({key: None for key in string.punctuation})\n",
    "    tokenized = blob.lower().replace(\"-\",\" \").strip('\"-\\'«').translate(translator).split()\n",
    "    \n",
    "    return tokenized"
   ]
  },
  {
   "cell_type": "code",
   "execution_count": 160,
   "metadata": {
    "collapsed": true
   },
   "outputs": [],
   "source": [
    "counts = {}\n",
    "\n",
    "for summary in movies['summary']:\n",
    "    for word in tokenizer(summary):\n",
    "        counts[word] = counts.get(word, 0) + 1"
   ]
  },
  {
   "cell_type": "markdown",
   "metadata": {},
   "source": [
    "Now dictionaries are inherently orderless but we need an ordering to establish rank. We can do this by creating a list of $(rank, word, count)$ tuples starting with rank 1 and descending all the way down to rank $len(counts)$.\n",
    "\n",
    "We also create \"zipf\" which is a list constructed to perfectly follow Zipf's distribution using our corpus and starting with the starting value found in our data."
   ]
  },
  {
   "cell_type": "code",
   "execution_count": 161,
   "metadata": {
    "collapsed": false
   },
   "outputs": [],
   "source": [
    "#sorted ensures we see ordered data. This ordering is preserved in future list comprehensions\n",
    "ordered = [(n + 1, word, counts[word]) for n, word in enumerate(sorted(counts, key=counts.get, reverse = True))]\n",
    "\n",
    "zipf = [(n + 1, word, max(counts.values())/(n + 1)) \n",
    "        for n, word in enumerate(sorted(counts, key=counts.get, reverse = True))]"
   ]
  },
  {
   "cell_type": "markdown",
   "metadata": {},
   "source": [
    "Before we get into any quantitative measures for evidence of Zipf's law occurring in our data, first let's look at log-normed plots of both $ordered$ and $zipf$ to see if they look anywhere close to each other."
   ]
  },
  {
   "cell_type": "code",
   "execution_count": 162,
   "metadata": {
    "collapsed": false
   },
   "outputs": [
    {
     "data": {
      "image/png": "[encoded data removed]",
      "text/plain": [
       "<matplotlib.figure.Figure at 0x1bc8af93630>"
      ]
     },
     "metadata": {},
     "output_type": "display_data"
    }
   ],
   "source": [
    "x_ordered = np.log([xs[0] for xs in ordered])\n",
    "y_ordered = np.log([ys[2] for ys in ordered])\n",
    "\n",
    "x_perfect = np.log([xs[0] for xs in zipf])\n",
    "y_perfect = np.log([ys[2] for ys in zipf])\n",
    "\n",
    "plt.title(\"Zipf Comparison Chart\")\n",
    "plt.xlabel(\"Log Rank\")\n",
    "plt.ylabel(\"Log Frequency Count\")\n",
    "\n",
    "plt.plot(x_ordered, y_ordered)\n",
    "plt.plot(x_perfect, y_perfect)\n",
    "plt.legend([\"Empirical\", \"Perfect Zipf\"], loc = \"upper right\")\n",
    "plt.show()"
   ]
  },
  {
   "cell_type": "markdown",
   "metadata": {},
   "source": [
    "Good news so far! Simply looking at the plot seems to give us an indication that our data follows Zipf's distribution.\n",
    "\n",
    "Quantitatively establishing this relation is somewhat trickier though. Despite being my first impulse, running a regression on the logged empirical data and testing the alternative hypothesis that $\\hat{\\beta}_{1} = -1$ is actually not a statistically sound method according to the literature. See articles *Testing for Zipf’s law: A common pitfall* or *A simple* and *efficient test for Zipf’s law* from Economic Letters.\n",
    "\n",
    "Instead our best route is to use the two-sided __[Kolmogorov–Smirnov test](hhttps://en.m.wikipedia.org/wiki/Kolmogorov%E2%80%93Smirnov_test)__ (KS). The two-sided KS test quantifies the distance between two empirical distribution functions. Essentially we are testing if two sets of data were drawn from the same distribution. For our two samples we use the ordered counts list created above from the corpus of summaries and the manufactured ordered list that perfectly relates our data as the inverse of its rank. I.e. 2nd index of tuples found in lists $ordered$ and $zipf$ or the data that constitutes the blue and green lines in the above plot.\n",
    "\n",
    "The null hypothesis for the KS test is that the samples *are* drawn from the same samples."
   ]
  },
  {
   "cell_type": "code",
   "execution_count": 163,
   "metadata": {
    "collapsed": false
   },
   "outputs": [
    {
     "data": {
      "text/plain": [
       "Ks_2sampResult(statistic=0.61659396020376578, pvalue=0.0)"
      ]
     },
     "execution_count": 163,
     "metadata": {},
     "output_type": "execute_result"
    }
   ],
   "source": [
    "stats.ks_2samp([xs[2] for xs in ordered], [int(xs[2]) for xs in zipf])"
   ]
  },
  {
   "cell_type": "markdown",
   "metadata": {},
   "source": [
    "Unfortunately according to the two-sided KS test we reject the null hypothesis with fairly high confidence considering the p-value essentially equals 0. It's important to keep in mind that even though our log-log plot seems to show something very close to a Zipf distribution it's not too difficult to get log-log plots to look very close for varying distributions.\n",
    "\n",
    "Also when we actually look at the empirical counts we can visually tell that it doesn't seem to be very Zipf-like. Early on it has a couple substantial jumps but slows down very quickly and the vast majority of the data actually sees very small differences from one rank to the subsequent rank."
   ]
  }
 ],
 "metadata": {
  "anaconda-cloud": {},
  "kernelspec": {
   "display_name": "Python [Root]",
   "language": "python",
   "name": "Python [Root]"
  },
  "language_info": {
   "codemirror_mode": {
    "name": "ipython",
    "version": 3
   },
   "file_extension": ".py",
   "mimetype": "text/x-python",
   "name": "python",
   "nbconvert_exporter": "python",
   "pygments_lexer": "ipython3",
   "version": "3.5.4"
  }
 },
 "nbformat": 4,
 "nbformat_minor": 0
}
