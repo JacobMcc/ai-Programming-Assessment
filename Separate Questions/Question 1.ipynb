{
 "cells": [
  {
   "cell_type": "markdown",
   "metadata": {},
   "source": [
    "# Programming Assessment Prompt  #1\n",
    "\n",
    "This prompt asks us to find the 5 most popular genres within the given *movies* dataset.\n",
    "\n",
    "In this notebook I will be:\n",
    "-  Munging the data into a form most conducive to analyses for the given question\n",
    "-  Determining which statistic (mean/median/count) is best to establish a ranking\n",
    "-  Computing the ranking\n",
    "\n",
    "We start by importing necessary modules and the dataset:"
   ]
  },
  {
   "cell_type": "code",
   "execution_count": 11,
   "metadata": {
    "collapsed": false
   },
   "outputs": [
    {
     "data": {
      "text/html": [
       "<div>\n",
       "<table border=\"1\" class=\"dataframe\">\n",
       "  <thead>\n",
       "    <tr style=\"text-align: right;\">\n",
       "      <th></th>\n",
       "      <th>id</th>\n",
       "      <th>title</th>\n",
       "      <th>release_date</th>\n",
       "      <th>box_office_revenue</th>\n",
       "      <th>runtime</th>\n",
       "      <th>genres</th>\n",
       "      <th>summary</th>\n",
       "    </tr>\n",
       "  </thead>\n",
       "  <tbody>\n",
       "    <tr>\n",
       "      <th>0</th>\n",
       "      <td>0</td>\n",
       "      <td>Ghosts of Mars</td>\n",
       "      <td>2001-08-24</td>\n",
       "      <td>14010832.0</td>\n",
       "      <td>98.0</td>\n",
       "      <td>[\"Space western\", \"Horror\", \"Supernatural\", \"T...</td>\n",
       "      <td>Set in the second half of the 22nd century, th...</td>\n",
       "    </tr>\n",
       "    <tr>\n",
       "      <th>1</th>\n",
       "      <td>1</td>\n",
       "      <td>White Of The Eye</td>\n",
       "      <td>1987</td>\n",
       "      <td>NaN</td>\n",
       "      <td>110.0</td>\n",
       "      <td>[\"Erotic thriller\", \"Psychological thriller\", ...</td>\n",
       "      <td>A series of murders of rich young women throug...</td>\n",
       "    </tr>\n",
       "    <tr>\n",
       "      <th>2</th>\n",
       "      <td>2</td>\n",
       "      <td>A Woman in Flames</td>\n",
       "      <td>1983</td>\n",
       "      <td>NaN</td>\n",
       "      <td>106.0</td>\n",
       "      <td>[\"Drama\"]</td>\n",
       "      <td>Eva, an upper class housewife, becomes frustra...</td>\n",
       "    </tr>\n",
       "    <tr>\n",
       "      <th>3</th>\n",
       "      <td>3</td>\n",
       "      <td>The Sorcerer's Apprentice</td>\n",
       "      <td>2002</td>\n",
       "      <td>NaN</td>\n",
       "      <td>86.0</td>\n",
       "      <td>[\"Adventure\", \"Fantasy\", \"World cinema\", \"Fami...</td>\n",
       "      <td>Every hundred years, the evil Morgana  returns...</td>\n",
       "    </tr>\n",
       "    <tr>\n",
       "      <th>4</th>\n",
       "      <td>4</td>\n",
       "      <td>Little city</td>\n",
       "      <td>1997-04-04</td>\n",
       "      <td>NaN</td>\n",
       "      <td>93.0</td>\n",
       "      <td>[\"Romance Film\", \"Ensemble Film\", \"Comedy-dram...</td>\n",
       "      <td>Adam, a San Francisco-based artist who works a...</td>\n",
       "    </tr>\n",
       "  </tbody>\n",
       "</table>\n",
       "</div>"
      ],
      "text/plain": [
       "   id                      title release_date  box_office_revenue  runtime  \\\n",
       "0   0             Ghosts of Mars   2001-08-24          14010832.0     98.0   \n",
       "1   1           White Of The Eye         1987                 NaN    110.0   \n",
       "2   2          A Woman in Flames         1983                 NaN    106.0   \n",
       "3   3  The Sorcerer's Apprentice         2002                 NaN     86.0   \n",
       "4   4                Little city   1997-04-04                 NaN     93.0   \n",
       "\n",
       "                                              genres  \\\n",
       "0  [\"Space western\", \"Horror\", \"Supernatural\", \"T...   \n",
       "1  [\"Erotic thriller\", \"Psychological thriller\", ...   \n",
       "2                                          [\"Drama\"]   \n",
       "3  [\"Adventure\", \"Fantasy\", \"World cinema\", \"Fami...   \n",
       "4  [\"Romance Film\", \"Ensemble Film\", \"Comedy-dram...   \n",
       "\n",
       "                                             summary  \n",
       "0  Set in the second half of the 22nd century, th...  \n",
       "1  A series of murders of rich young women throug...  \n",
       "2  Eva, an upper class housewife, becomes frustra...  \n",
       "3  Every hundred years, the evil Morgana  returns...  \n",
       "4  Adam, a San Francisco-based artist who works a...  "
      ]
     },
     "execution_count": 11,
     "metadata": {},
     "output_type": "execute_result"
    }
   ],
   "source": [
    "import pandas as pd\n",
    "import numpy as np\n",
    "from fuzzywuzzy import fuzz\n",
    "import matplotlib.pyplot as plt\n",
    "%matplotlib inline\n",
    "from collections import Counter\n",
    "import ast\n",
    "\n",
    "movies = pd.read_csv(\"movie_data.csv\")\n",
    "\n",
    "movies.head(5)"
   ]
  },
  {
   "cell_type": "markdown",
   "metadata": {},
   "source": [
    "## Now we want to check the type of each feature to make sure it matches our initial intuition"
   ]
  },
  {
   "cell_type": "code",
   "execution_count": 12,
   "metadata": {
    "collapsed": false
   },
   "outputs": [
    {
     "name": "stdout",
     "output_type": "stream",
     "text": [
      "id ... <class 'numpy.int64'>\n",
      "title ... <class 'str'>\n",
      "release_date ... <class 'str'>\n",
      "box_office_revenue ... <class 'numpy.float64'>\n",
      "runtime ... <class 'numpy.float64'>\n",
      "genres ... <class 'str'>\n",
      "summary ... <class 'str'>\n"
     ]
    }
   ],
   "source": [
    "for feature in movies.columns:\n",
    "    print(feature, \"...\", type(movies[feature][0]))"
   ]
  },
  {
   "cell_type": "markdown",
   "metadata": {},
   "source": [
    "We can see that \"genres\" is actually a string and not a list. Let's change it into a list!"
   ]
  },
  {
   "cell_type": "markdown",
   "metadata": {},
   "source": [
    "## Munging"
   ]
  },
  {
   "cell_type": "markdown",
   "metadata": {
    "collapsed": true
   },
   "source": [
    "We convert list-looking strings into lists using ast's \"literal_eval\" method."
   ]
  },
  {
   "cell_type": "code",
   "execution_count": 13,
   "metadata": {
    "collapsed": false
   },
   "outputs": [
    {
     "data": {
      "text/plain": [
       "list"
      ]
     },
     "execution_count": 13,
     "metadata": {},
     "output_type": "execute_result"
    }
   ],
   "source": [
    "movies['genres'] = pd.Series(ast.literal_eval(genres) for genres in movies['genres'])\n",
    "\n",
    "#Let's check our work:\n",
    "type(movies['genres'][0])"
   ]
  },
  {
   "cell_type": "markdown",
   "metadata": {},
   "source": [
    "Next we split by genres so each movie has a row for each genre it falls under. This allows us to more easily work with the data and ask genre-centric questions of the data.\n",
    "\n",
    "Note: All of these list comprehensions make us prone to memory errors. Though my small laptop can handle it given I am not running a bunch of processes elsewhere in Jupyter."
   ]
  },
  {
   "cell_type": "code",
   "execution_count": 14,
   "metadata": {
    "collapsed": false
   },
   "outputs": [
    {
     "data": {
      "text/html": [
       "<div>\n",
       "<table border=\"1\" class=\"dataframe\">\n",
       "  <thead>\n",
       "    <tr style=\"text-align: right;\">\n",
       "      <th></th>\n",
       "      <th>box_office_revenue</th>\n",
       "      <th>genres</th>\n",
       "      <th>release_date</th>\n",
       "      <th>runtime</th>\n",
       "      <th>summary</th>\n",
       "      <th>titles</th>\n",
       "    </tr>\n",
       "  </thead>\n",
       "  <tbody>\n",
       "    <tr>\n",
       "      <th>0</th>\n",
       "      <td>14010832.0</td>\n",
       "      <td>Space western</td>\n",
       "      <td>2001-08-24</td>\n",
       "      <td>98.0</td>\n",
       "      <td>Set in the second half of the 22nd century, th...</td>\n",
       "      <td>Ghosts of Mars</td>\n",
       "    </tr>\n",
       "    <tr>\n",
       "      <th>1</th>\n",
       "      <td>14010832.0</td>\n",
       "      <td>Horror</td>\n",
       "      <td>2001-08-24</td>\n",
       "      <td>98.0</td>\n",
       "      <td>Set in the second half of the 22nd century, th...</td>\n",
       "      <td>Ghosts of Mars</td>\n",
       "    </tr>\n",
       "    <tr>\n",
       "      <th>2</th>\n",
       "      <td>14010832.0</td>\n",
       "      <td>Supernatural</td>\n",
       "      <td>2001-08-24</td>\n",
       "      <td>98.0</td>\n",
       "      <td>Set in the second half of the 22nd century, th...</td>\n",
       "      <td>Ghosts of Mars</td>\n",
       "    </tr>\n",
       "    <tr>\n",
       "      <th>3</th>\n",
       "      <td>14010832.0</td>\n",
       "      <td>Thriller</td>\n",
       "      <td>2001-08-24</td>\n",
       "      <td>98.0</td>\n",
       "      <td>Set in the second half of the 22nd century, th...</td>\n",
       "      <td>Ghosts of Mars</td>\n",
       "    </tr>\n",
       "    <tr>\n",
       "      <th>4</th>\n",
       "      <td>14010832.0</td>\n",
       "      <td>Science Fiction</td>\n",
       "      <td>2001-08-24</td>\n",
       "      <td>98.0</td>\n",
       "      <td>Set in the second half of the 22nd century, th...</td>\n",
       "      <td>Ghosts of Mars</td>\n",
       "    </tr>\n",
       "    <tr>\n",
       "      <th>5</th>\n",
       "      <td>14010832.0</td>\n",
       "      <td>Action</td>\n",
       "      <td>2001-08-24</td>\n",
       "      <td>98.0</td>\n",
       "      <td>Set in the second half of the 22nd century, th...</td>\n",
       "      <td>Ghosts of Mars</td>\n",
       "    </tr>\n",
       "    <tr>\n",
       "      <th>6</th>\n",
       "      <td>14010832.0</td>\n",
       "      <td>Adventure</td>\n",
       "      <td>2001-08-24</td>\n",
       "      <td>98.0</td>\n",
       "      <td>Set in the second half of the 22nd century, th...</td>\n",
       "      <td>Ghosts of Mars</td>\n",
       "    </tr>\n",
       "    <tr>\n",
       "      <th>7</th>\n",
       "      <td>NaN</td>\n",
       "      <td>Erotic thriller</td>\n",
       "      <td>1987</td>\n",
       "      <td>110.0</td>\n",
       "      <td>A series of murders of rich young women throug...</td>\n",
       "      <td>White Of The Eye</td>\n",
       "    </tr>\n",
       "    <tr>\n",
       "      <th>8</th>\n",
       "      <td>NaN</td>\n",
       "      <td>Psychological thriller</td>\n",
       "      <td>1987</td>\n",
       "      <td>110.0</td>\n",
       "      <td>A series of murders of rich young women throug...</td>\n",
       "      <td>White Of The Eye</td>\n",
       "    </tr>\n",
       "    <tr>\n",
       "      <th>9</th>\n",
       "      <td>NaN</td>\n",
       "      <td>Thriller</td>\n",
       "      <td>1987</td>\n",
       "      <td>110.0</td>\n",
       "      <td>A series of murders of rich young women throug...</td>\n",
       "      <td>White Of The Eye</td>\n",
       "    </tr>\n",
       "  </tbody>\n",
       "</table>\n",
       "</div>"
      ],
      "text/plain": [
       "   box_office_revenue                  genres release_date  runtime  \\\n",
       "0          14010832.0           Space western   2001-08-24     98.0   \n",
       "1          14010832.0                  Horror   2001-08-24     98.0   \n",
       "2          14010832.0            Supernatural   2001-08-24     98.0   \n",
       "3          14010832.0                Thriller   2001-08-24     98.0   \n",
       "4          14010832.0         Science Fiction   2001-08-24     98.0   \n",
       "5          14010832.0                  Action   2001-08-24     98.0   \n",
       "6          14010832.0               Adventure   2001-08-24     98.0   \n",
       "7                 NaN         Erotic thriller         1987    110.0   \n",
       "8                 NaN  Psychological thriller         1987    110.0   \n",
       "9                 NaN                Thriller         1987    110.0   \n",
       "\n",
       "                                             summary            titles  \n",
       "0  Set in the second half of the 22nd century, th...    Ghosts of Mars  \n",
       "1  Set in the second half of the 22nd century, th...    Ghosts of Mars  \n",
       "2  Set in the second half of the 22nd century, th...    Ghosts of Mars  \n",
       "3  Set in the second half of the 22nd century, th...    Ghosts of Mars  \n",
       "4  Set in the second half of the 22nd century, th...    Ghosts of Mars  \n",
       "5  Set in the second half of the 22nd century, th...    Ghosts of Mars  \n",
       "6  Set in the second half of the 22nd century, th...    Ghosts of Mars  \n",
       "7  A series of murders of rich young women throug...  White Of The Eye  \n",
       "8  A series of murders of rich young women throug...  White Of The Eye  \n",
       "9  A series of murders of rich young women throug...  White Of The Eye  "
      ]
     },
     "execution_count": 14,
     "metadata": {},
     "output_type": "execute_result"
    }
   ],
   "source": [
    "#all_genres stores all the genres split out of the lists and stacks horizontally\n",
    "#This makes is easy to construct our dataframe later\n",
    "all_genres = np.hstack(movies.genres)\n",
    "\n",
    "#Each feature is stacked so that a value repeats for as many genres as were in the original genre list\n",
    "all_titles = np.hstack([[title]*len(genre) for title, genre in movies[['title', 'genres']].values])\n",
    "all_release_dates = np.hstack([[release]*len(genre) for release, genre in movies[['release_date', 'genres']].values])\n",
    "all_revenues = np.hstack([[revenue]*len(genre) for revenue, genre in movies[['box_office_revenue', 'genres']].values])\n",
    "all_runtimes = np.hstack([[runtime]*len(genre) for runtime, genre in movies[['runtime', 'genres']].values])\n",
    "all_summaries = np.hstack([[summary]*len(genre) for summary, genre in movies[['summary', 'genres']].values])\n",
    "\n",
    "movies_split = pd.DataFrame({'genres':all_genres, 'titles':all_titles, 'release_date':all_release_dates,\n",
    "                     'box_office_revenue':all_revenues, 'runtime':all_runtimes, 'summary':all_summaries})\n",
    "\n",
    "#Let's check to see if this yields what we expect...\n",
    "movies_split.head(10)"
   ]
  },
  {
   "cell_type": "markdown",
   "metadata": {},
   "source": [
    "Next we want to look at what the actual genres are. To save the reader from a ton of scrolling I have hidden the output showing all unique genres."
   ]
  },
  {
   "cell_type": "code",
   "execution_count": 15,
   "metadata": {
    "collapsed": false
   },
   "outputs": [
    {
     "name": "stdout",
     "output_type": "stream",
     "text": [
      "363\n"
     ]
    }
   ],
   "source": [
    "unique_genres = list(set(all_genres))\n",
    "\n",
    "print(len(unique_genres))\n",
    "\n",
    "unique_genres;"
   ]
  },
  {
   "cell_type": "markdown",
   "metadata": {},
   "source": [
    "Note there are 363 unique genres. Looking at the set of genres we can see there are a number of genres that are the same for all intents and purposes just spelled slightly differently or are synonyms to other genres.\n",
    "\n",
    "Using the tools provided by the package \"fuzzymuzy\" we can create a mapping dictionary to replace certain genre labels. Here is a good examply of the two different function we will use from fuzzywuzzy:"
   ]
  },
  {
   "cell_type": "code",
   "execution_count": 16,
   "metadata": {
    "collapsed": false
   },
   "outputs": [
    {
     "name": "stdout",
     "output_type": "stream",
     "text": [
      "partial_ratio:  100\n",
      "ratio:  57\n",
      "ratio:  95\n"
     ]
    }
   ],
   "source": [
    "#Each of these is a member of unique_genres\n",
    "\n",
    "#partial_ratio matches on substrings and is good for matching things like: \"New York Mets\" and \"Mets\"\n",
    "print(\"partial_ratio: \", fuzz.partial_ratio(\"family\", \"family-oriented\"))\n",
    "\n",
    "#ratio just looks at the minimum edit, or Levenshtein, distance from one string to another.\n",
    "#We can see that it does not perform well on  string pairs that partial_ratio does.\n",
    "print(\"ratio: \", fuzz.ratio(\"family\", \"family-oriented\"))\n",
    "\n",
    "#Here we see a case where ratio is appropriate\n",
    "print(\"ratio: \", fuzz.ratio(\"documentary\", \"documetary\"))"
   ]
  },
  {
   "cell_type": "markdown",
   "metadata": {},
   "source": [
    "Using these two string matching metrics we construct a mapping dictionary. We use this as a temp so that the next dictionary will only have non-empty genre-to-genre mapping elements."
   ]
  },
  {
   "cell_type": "code",
   "execution_count": 48,
   "metadata": {
    "collapsed": false
   },
   "outputs": [],
   "source": [
    "temp_mapper = {genre : [] for genre in unique_genres}\n",
    "\n",
    "for i in range(len(unique_genres)):\n",
    "    for j in range(len(unique_genres)):\n",
    "        \n",
    "        if i != j:\n",
    "            ratio_score = fuzz.ratio(unique_genres[i],unique_genres[j])\n",
    "            partial_score = fuzz.partial_ratio(unique_genres[i],unique_genres[j])\n",
    "            \n",
    "            #We choose the threshold here to be restrictive in ratio and very restrictive in partial_ratio\n",
    "            #These values were found though trial and error\n",
    "            if ratio_score >= 85 or partial_score == 100:\n",
    "                temp_mapper[unique_genres[i]].append(unique_genres[j])\n",
    "\n",
    "#After looking through temp_mapper we can find an appropriate mapping visually\n",
    "genre_mapper = {\"Action\": \"Action/Adventure\", \"Adventure\": \"Action/Adventure\", \"Music\": \"Musical\",\n",
    "               \"Computer Animation\": \"Animation\", \"Animated Cartoon\": \"Animation\", \"Backstage Musical\": \"Musical\",\n",
    "               \"Beach Party film\": \"Beach Film\", \"Biographical Film\": \"Biography\", \"Biopic [feature]\": \"Biography\",\n",
    "               \"Breakdance\": \"Dance\", \"Alien invasion\": \"Alien Film\", \"Children\\'s/Family\": \"Children\\'s\",\n",
    "               \"Children\\'s Entertainment\": \"Children\\'s\", \"Children\\'s Fantsy\": \"Children\\'s\", \n",
    "               \"Children\\'s Issues\": \"Children\\'s\", \"Comdedy\": \"Comedy\", \"Comedy horror\": \"Horror Comedy\",\n",
    "               \"Comedy film\": \"Comedy\", \"Coming-of-age film\": \"Coming of age\", \"Detective Fiction\": \"Detective\",\n",
    "               \"Education\": \"Educational\", \"Extreme Sports\": \"Sports\", \"Gross-out film\": \"Gross out\",\n",
    "               \"World History\": \"History\", \"Humour\": \"Comedy\", \"Monster movie\": \"Monster\", \"Prison film\": \"Prison\",\n",
    "               \"Superhero movie\": \"Superhero\", \"Sword and sorcery films\": \"Sword and sorcery\"}"
   ]
  },
  {
   "cell_type": "markdown",
   "metadata": {},
   "source": [
    "When choosing the mapping we left appropriately specific deviations from a more general genre (e.g. Pyschological Thriller doesn't get mapped to Thriller) but we did bucket things like Humour -> Comedy. Manual creation was necessary since fuzzywuzzy was being a bit too overzealous in it's matching and we would have been left with improper combinations. We also replace each genre found within the set of keys to the genre found in the corresponding values."
   ]
  },
  {
   "cell_type": "code",
   "execution_count": null,
   "metadata": {
    "collapsed": true
   },
   "outputs": [],
   "source": [
    "movies_split['genres'].replace(genre_mapper, inplace = True)\n",
    "\n",
    "#We also want to drop duplicate rows where a given movie has both the genre mapped to and from in 'genres'\n",
    "movies_split = movies_split.drop_duplicates()\n",
    "movies_split.head(10)"
   ]
  },
  {
   "cell_type": "markdown",
   "metadata": {},
   "source": [
    "Awesome! Now that we have our data in a format that lends itself to analyses of the genres let's look at how we will define and quantify \"popular\""
   ]
  },
  {
   "cell_type": "markdown",
   "metadata": {},
   "source": [
    "## Establishing a measure of Popularity"
   ]
  },
  {
   "cell_type": "markdown",
   "metadata": {},
   "source": [
    "There are a few different metrics we could use to quantify popularity from the data we are given.\n",
    "- The mean box office revenue across all movies in a genre\n",
    "- The median box office revenue acorss all movies in a genre\n",
    "- The number of times a given genre appears in our dataset\n",
    "\n",
    "The reasoning for this last measure would be that, given the sampling from Wikipedia was random, it roughly represents the actual population of movies. If so, it would make some sense that a more popular genre would have more movies made in that genre than a less popular genre. Hence, the higher the count of occurrences for a given genre, the more popular."
   ]
  },
  {
   "cell_type": "markdown",
   "metadata": {
    "collapsed": true
   },
   "source": [
    "To begin let's take a look at the distributions of box office revenues for a few genres to see if mean might be a good statistcal descriptor. Let's look at a few genres with the highest sample sizes."
   ]
  },
  {
   "cell_type": "code",
   "execution_count": null,
   "metadata": {
    "collapsed": true
   },
   "outputs": [],
   "source": [
    "movies_split['genres'].groupby(movies_split['genres']).count().nlargest(50)"
   ]
  },
  {
   "cell_type": "code",
   "execution_count": null,
   "metadata": {
    "collapsed": true
   },
   "outputs": [],
   "source": [
    "horror_revenue = movies_expanded[movies_expanded['genres'] == 'Horror']['box_office_revenue'].dropna()\n",
    "\n",
    "comedy_revenue = movies_expanded[movies_expanded['genres'] == 'Comedy']['box_office_revenue'].dropna()\n",
    "\n",
    "horror_revenue = movies_expanded[movies_expanded['genres'] == 'Drama']['box_office_revenue'].dropna()\n",
    "\n",
    "fig, ax = plt.subplots(1,3, sharex=True)\n",
    "\n",
    "ax[0].hist(horror_revenue, alpha = 0.5, color = 'r')\n",
    "ax[0].set_title('Horror')\n",
    "ax[0].set_ylabel('Counts')\n",
    "ax[0].set_xlabel(\"Revenue\")\n",
    "\n",
    "ax[1].hist(comedy_revenue, alpha = 0.5, color = 'g')\n",
    "ax[1].set_title('Comedy')\n",
    "ax[1].set_ylabel(\"Counts\")\n",
    "ax[1].set_xlabel(\"Revenue\")\n",
    "\n",
    "ax[2].hist(drama_revenue, alpha = 0.5, color = 'b')\n",
    "ax[2].set_title('Drama')\n",
    "ax[2].set_ylabel(\"Counts\")\n",
    "ax[2].set_xlabel(\"Revenue\")\n",
    "\n",
    "plt.tight_layout()\n",
    "plt.show()"
   ]
  },
  {
   "cell_type": "markdown",
   "metadata": {},
   "source": [
    "Taking a look at the plots above we can see that the vast majority of box office revenues are found at the lower end of the range. Also we see that for each genre plotted there are a few significant outliers which indicates that the mean will be greatly affected by these outliers. Because of this we assume that either median or genre-count are better overall descriptions of popularity via box office revenue."
   ]
  },
  {
   "cell_type": "code",
   "execution_count": null,
   "metadata": {
    "collapsed": true
   },
   "outputs": [],
   "source": [
    "def top_n_median(n):\n",
    "    return movies_expanded['box_office_revenue'].groupby(movies_expanded['genres']).median().nlargest(n)\n",
    "\n",
    "#Let's take a look at the top 20 genres and see if they align with out intuition (i.e. Comedy/Drama/etc...)\n",
    "top_n_median(20)"
   ]
  },
  {
   "cell_type": "markdown",
   "metadata": {},
   "source": [
    "This does not match our intuition whatsoever! I have never heard of anyone going to a \"Space Opera, which certainly wouldn't be true for the actual most popular genre.\n",
    "\n",
    "Let's look at count and see what we find."
   ]
  },
  {
   "cell_type": "code",
   "execution_count": null,
   "metadata": {
    "collapsed": true
   },
   "outputs": [],
   "source": [
    "movies_expanded['box_office_revenue'].groupby(movies_expanded['genres']).count().nlargest(20)"
   ]
  },
  {
   "cell_type": "markdown",
   "metadata": {},
   "source": [
    "This list makes the most sense certainly. 7,587 of our 42,204 movies have non-empty values for box office revenue. The movie industry is all about serving a market just like any other industry and because of this it is easy to see how demand dictates supply. By looking at what we are assuming is a random sample of the supply we can reason that frequency of genre occurrance is directly related to consumer demand which is again directly related to \"popularity\"."
   ]
  },
  {
   "cell_type": "code",
   "execution_count": null,
   "metadata": {
    "collapsed": true
   },
   "outputs": [],
   "source": []
  }
 ],
 "metadata": {
  "anaconda-cloud": {},
  "kernelspec": {
   "display_name": "Python [Root]",
   "language": "python",
   "name": "Python [Root]"
  },
  "language_info": {
   "codemirror_mode": {
    "name": "ipython",
    "version": 3
   },
   "file_extension": ".py",
   "mimetype": "text/x-python",
   "name": "python",
   "nbconvert_exporter": "python",
   "pygments_lexer": "ipython3",
   "version": "3.5.2"
  }
 },
 "nbformat": 4,
 "nbformat_minor": 0
}
