{
 "cells": [
  {
   "cell_type": "code",
   "execution_count": 35,
   "metadata": {
    "collapsed": false
   },
   "outputs": [
    {
     "data": {
      "text/html": [
       "<div>\n",
       "<table border=\"1\" class=\"dataframe\">\n",
       "  <thead>\n",
       "    <tr style=\"text-align: right;\">\n",
       "      <th></th>\n",
       "      <th>id</th>\n",
       "      <th>title</th>\n",
       "      <th>release_date</th>\n",
       "      <th>box_office_revenue</th>\n",
       "      <th>runtime</th>\n",
       "      <th>genres</th>\n",
       "      <th>summary</th>\n",
       "    </tr>\n",
       "  </thead>\n",
       "  <tbody>\n",
       "    <tr>\n",
       "      <th>0</th>\n",
       "      <td>0</td>\n",
       "      <td>Ghosts of Mars</td>\n",
       "      <td>2001-08-24</td>\n",
       "      <td>14010832.0</td>\n",
       "      <td>98.0</td>\n",
       "      <td>[Space western, Horror, Supernatural, Thriller...</td>\n",
       "      <td>Set in the second half of the 22nd century, th...</td>\n",
       "    </tr>\n",
       "    <tr>\n",
       "      <th>1</th>\n",
       "      <td>1</td>\n",
       "      <td>White Of The Eye</td>\n",
       "      <td>1987</td>\n",
       "      <td>NaN</td>\n",
       "      <td>110.0</td>\n",
       "      <td>[Erotic thriller, Psychological thriller, Thri...</td>\n",
       "      <td>A series of murders of rich young women throug...</td>\n",
       "    </tr>\n",
       "    <tr>\n",
       "      <th>2</th>\n",
       "      <td>2</td>\n",
       "      <td>A Woman in Flames</td>\n",
       "      <td>1983</td>\n",
       "      <td>NaN</td>\n",
       "      <td>106.0</td>\n",
       "      <td>[Drama]</td>\n",
       "      <td>Eva, an upper class housewife, becomes frustra...</td>\n",
       "    </tr>\n",
       "    <tr>\n",
       "      <th>3</th>\n",
       "      <td>3</td>\n",
       "      <td>The Sorcerer's Apprentice</td>\n",
       "      <td>2002</td>\n",
       "      <td>NaN</td>\n",
       "      <td>86.0</td>\n",
       "      <td>[Adventure, Fantasy, World cinema, Family Film]</td>\n",
       "      <td>Every hundred years, the evil Morgana  returns...</td>\n",
       "    </tr>\n",
       "    <tr>\n",
       "      <th>4</th>\n",
       "      <td>4</td>\n",
       "      <td>Little city</td>\n",
       "      <td>1997-04-04</td>\n",
       "      <td>NaN</td>\n",
       "      <td>93.0</td>\n",
       "      <td>[Romance Film, Ensemble Film, Comedy-drama, Co...</td>\n",
       "      <td>Adam, a San Francisco-based artist who works a...</td>\n",
       "    </tr>\n",
       "  </tbody>\n",
       "</table>\n",
       "</div>"
      ],
      "text/plain": [
       "   id                      title release_date  box_office_revenue  runtime  \\\n",
       "0   0             Ghosts of Mars   2001-08-24          14010832.0     98.0   \n",
       "1   1           White Of The Eye         1987                 NaN    110.0   \n",
       "2   2          A Woman in Flames         1983                 NaN    106.0   \n",
       "3   3  The Sorcerer's Apprentice         2002                 NaN     86.0   \n",
       "4   4                Little city   1997-04-04                 NaN     93.0   \n",
       "\n",
       "                                              genres  \\\n",
       "0  [Space western, Horror, Supernatural, Thriller...   \n",
       "1  [Erotic thriller, Psychological thriller, Thri...   \n",
       "2                                            [Drama]   \n",
       "3    [Adventure, Fantasy, World cinema, Family Film]   \n",
       "4  [Romance Film, Ensemble Film, Comedy-drama, Co...   \n",
       "\n",
       "                                             summary  \n",
       "0  Set in the second half of the 22nd century, th...  \n",
       "1  A series of murders of rich young women throug...  \n",
       "2  Eva, an upper class housewife, becomes frustra...  \n",
       "3  Every hundred years, the evil Morgana  returns...  \n",
       "4  Adam, a San Francisco-based artist who works a...  "
      ]
     },
     "execution_count": 35,
     "metadata": {},
     "output_type": "execute_result"
    }
   ],
   "source": [
    "import pandas as pd\n",
    "import numpy as np\n",
    "import ast\n",
    "import string\n",
    "import collections\n",
    "from nltk import WordNetLemmatizer\n",
    "import nltk\n",
    "\n",
    "movies = pd.read_csv(\"movie_data.csv\")\n",
    "\n",
    "movies['genres'] = pd.Series(ast.literal_eval(genres) for genres in movies['genres'])\n",
    "\n",
    "movies.head(5)"
   ]
  },
  {
   "cell_type": "code",
   "execution_count": 2,
   "metadata": {
    "collapsed": false
   },
   "outputs": [],
   "source": [
    "import math\n",
    "from textblob import TextBlob as tb\n",
    "\n",
    "def tf(word, blob):\n",
    "    return blob.words.count(word) / len(blob.words)\n",
    "\n",
    "def n_containing(word, bloblist):\n",
    "    return sum(1 for blob in bloblist if word in blob.words)\n",
    "\n",
    "def idf(word, bloblist):\n",
    "    return math.log(len(bloblist) / (1 + n_containing(word, bloblist)))\n",
    "\n",
    "def tfidf(word, blob, bloblist):\n",
    "    return tf(word, blob) * idf(word, bloblist)"
   ]
  },
  {
   "cell_type": "code",
   "execution_count": 44,
   "metadata": {
    "collapsed": true
   },
   "outputs": [],
   "source": [
    "#Helper funciton to map part-of-speech tags to something that our root-finding map \"wordnet\" can recognize\n",
    "def get_wordnet_pos(treebank_tag):\n",
    "\n",
    "    if treebank_tag.startswith('J'):\n",
    "        return wordnet.ADJ\n",
    "    elif treebank_tag.startswith('V'):\n",
    "        return wordnet.VERB\n",
    "    elif treebank_tag.startswith('N'):\n",
    "        return wordnet.NOUN\n",
    "    elif treebank_tag.startswith('R'):\n",
    "        return wordnet.ADV\n",
    "    else:\n",
    "        return None\n",
    "    \n",
    "#Used to associate lemmatized tag object to literal string name\n",
    "def tag_helper(word,tag):\n",
    "    wntag = get_wordnet_pos(tag)\n",
    "    if wntag is None:# not supply tag in case of None\n",
    "        lemma = wnl.lemmatize(word)\n",
    "        tb_tag = \"\"\n",
    "    #assigning a variable to the english equivalent of our tags to be used later\n",
    "    else:\n",
    "        lemma = wnl.lemmatize(word, pos = wntag)\n",
    "        if wntag == wordnet.ADJ:\n",
    "            tb_tag = \"Adjective\"\n",
    "        elif wntag == wordnet.VERB:\n",
    "            tb_tag = \"Verb\"\n",
    "        elif wntag == wordnet.NOUN:\n",
    "            tb_tag = \"Noun\"\n",
    "        elif wntag == wordnet.ADV:\n",
    "            tb_tag = \"Adverb\"\n",
    "        elif wntag is None:\n",
    "            tb_tag = \"\"\n",
    "    return lemma, tb_tag"
   ]
  },
  {
   "cell_type": "code",
   "execution_count": 59,
   "metadata": {
    "collapsed": false
   },
   "outputs": [
    {
     "data": {
      "text/plain": [
       "'man'"
      ]
     },
     "execution_count": 59,
     "metadata": {},
     "output_type": "execute_result"
    }
   ],
   "source": [
    "wnl = WordNetLemmatizer()\n",
    "wnl.lemmatize(\"eggs\", \"n\")\n",
    "#nltk.pos_tag([\"eggs\"])\n",
    "test = nltk.tag.pos_tag(\"This is a test sentence The cat ran. We then walked home.\".split())\n",
    "test\n",
    "wnl.lemmatize(\"mans\")\n",
    "#nltk.tag.pos_tag('a sentence'.split())"
   ]
  },
  {
   "cell_type": "code",
   "execution_count": 8,
   "metadata": {
    "collapsed": true
   },
   "outputs": [],
   "source": [
    "def tokenizer(blob):\n",
    "    translator = str.maketrans({key: None for key in string.punctuation})\n",
    "    \n",
    "    wnl = WordNetLemmatizer()    \n",
    "    tokenized = \n",
    "    \n",
    "    tokenized = blob.lower().replace(\"-\",\" \").translate(translator).split()\n",
    "    return tokenized"
   ]
  },
  {
   "cell_type": "code",
   "execution_count": 9,
   "metadata": {
    "collapsed": false
   },
   "outputs": [],
   "source": [
    "unique_genres = [\"Drama\", \"Comedy\", \"Action/Adventure\", \"Romance Film\", \"Thriller\"]\n",
    "\n",
    "drama_list = []\n",
    "comedy_list = []\n",
    "action_list = []\n",
    "romance_list = []\n",
    "thriller_list = []\n",
    "\n",
    "for genre in unique_genres:\n",
    "    for genres, summary in zip(movies['genres'], movies['summary']):\n",
    "        if genre in genres:\n",
    "#             if genre == \"Drama\":\n",
    "#                 drama_list.append(tb(summary))\n",
    "#             elif genre == \"Comedy\":\n",
    "#                 comedy_list.append(tb(summary))\n",
    "#             elif genre == \"Action/Adventure\":\n",
    "#                 action_list.append(tb(summary))\n",
    "#             elif genre == \"Romance Film\":\n",
    "#                 thriller_list.append(tb(summary))\n",
    "#             elif genre == \"Thriller\":\n",
    "#                 thriller_list.append(tb(summary))\n",
    "            if genre == \"Drama\":\n",
    "                drama_list.append(tokenizer(summary))\n",
    "            elif genre == \"Comedy\":\n",
    "                comedy_list.append(tokenizer(summary))\n",
    "            elif genre == \"Action/Adventure\":\n",
    "                action_list.append(tokenizer(summary))\n",
    "            elif genre == \"Romance Film\":\n",
    "                thriller_list.append(tokenizer(summary))\n",
    "            elif genre == \"Thriller\":\n",
    "                thriller_list.append(tokenizer(summary))\n",
    "            "
   ]
  },
  {
   "cell_type": "code",
   "execution_count": 21,
   "metadata": {
    "collapsed": false
   },
   "outputs": [],
   "source": [
    "# vocab = set()\n",
    "# for key in tf_dict.keys():\n",
    "#     vocab.add(key[1])\n",
    "# vocab = list(vocab)\n",
    "\n",
    "tf_dict = {}\n",
    "\n",
    "for n, summary in enumerate(drama_list):\n",
    "    for word in summary:\n",
    "        if (n, word) not in tf_dict:\n",
    "            occurrence = summary.count(word)\n",
    "            tf_dict[(n, word)] = occurrence\n",
    "\n",
    "#This is just document frequency. Still need to implement inverse and log...\n",
    "df_dict = {}\n",
    "for key in tf_dict.keys():\n",
    "    if key[1] in df_dict:\n",
    "        df_dict[key[1]] += 1\n",
    "    else:\n",
    "        df_dict[key[1]] = 1"
   ]
  },
  {
   "cell_type": "code",
   "execution_count": 22,
   "metadata": {
    "collapsed": false
   },
   "outputs": [],
   "source": [
    "num_dramas = len(drama_list)\n",
    "\n",
    "idf_dict = {}\n",
    "\n",
    "for word, df in df_dict.items():\n",
    "    idf_dict[word] = np.log(num_dramas / df)"
   ]
  },
  {
   "cell_type": "code",
   "execution_count": 27,
   "metadata": {
    "collapsed": false
   },
   "outputs": [
    {
     "data": {
      "text/plain": [
       "['naziism',\n",
       " 'najaf',\n",
       " 'gallifrey',\n",
       " 'snehmoy',\n",
       " 'surrogacy',\n",
       " 'shiban',\n",
       " 'belansais',\n",
       " 'wetlands',\n",
       " 'springsebert',\n",
       " 'morros',\n",
       " 'arbutny',\n",
       " 'reugen',\n",
       " 'mélièss',\n",
       " 'lulled',\n",
       " 'motherthe',\n",
       " 'brightmores',\n",
       " 'muthassi',\n",
       " 'perpetratortête',\n",
       " 'inclining',\n",
       " 'topkapı',\n",
       " 'christ’s',\n",
       " 'arressted',\n",
       " 'stagefright',\n",
       " 'àlex’s',\n",
       " 'nemerov',\n",
       " 'khetarpal',\n",
       " 'transvestism',\n",
       " 'nationsmdashand',\n",
       " 'armyref',\n",
       " 'ballantyne',\n",
       " 'janiss',\n",
       " 'witwer',\n",
       " 'amiri',\n",
       " 'bruck',\n",
       " '1704',\n",
       " 'spanned',\n",
       " '1740s',\n",
       " 'marylou',\n",
       " '1685',\n",
       " 'largeman',\n",
       " 'satithe',\n",
       " 'overload—she',\n",
       " 'thapaal',\n",
       " 'frochards',\n",
       " 'reptilian',\n",
       " 'talesmartin',\n",
       " 'inflected',\n",
       " 'gusciora',\n",
       " 'pasto',\n",
       " 'nadiya',\n",
       " 'unsympathetically',\n",
       " 'radars',\n",
       " 'mrityudaata',\n",
       " 'tomakawk',\n",
       " 'mininente',\n",
       " 'shanmmugams',\n",
       " 'issue”',\n",
       " 'kaate',\n",
       " 'tagger',\n",
       " 'basa',\n",
       " 'rausch',\n",
       " 'rabhani',\n",
       " 'harleigh',\n",
       " 'cioffi',\n",
       " 'earthing',\n",
       " 'plotdatecontinuity',\n",
       " 'caanan',\n",
       " 'restano',\n",
       " 'curandera',\n",
       " 'lastlisa',\n",
       " 'ledru',\n",
       " 'dog”',\n",
       " 'eiji',\n",
       " 'reaffirmed',\n",
       " 'shais',\n",
       " 'prisonfact',\n",
       " 'videochapter39',\n",
       " 'weaponise',\n",
       " 'premante',\n",
       " 'gunasekaran',\n",
       " 'deliverycite',\n",
       " 'bardos',\n",
       " 'restaurantcafe',\n",
       " 'kinte',\n",
       " 'sucheks',\n",
       " 'rafeek',\n",
       " 'ligaya’s',\n",
       " 'missak',\n",
       " 'registrar’s',\n",
       " 'sirdevi',\n",
       " 'colomba',\n",
       " 'maines',\n",
       " 'bryson',\n",
       " '2010workspanishaccessdatepalma',\n",
       " 'bundage',\n",
       " 'cleareddavies',\n",
       " 'taussig',\n",
       " '‘minute',\n",
       " 'sukhilala',\n",
       " 'castwikitable',\n",
       " 'practitioners',\n",
       " 'that“',\n",
       " 'saimes',\n",
       " 'resetting',\n",
       " 'hasekawa',\n",
       " 'denmeyer',\n",
       " 'calvera',\n",
       " 'filmsthe',\n",
       " '“mr',\n",
       " 'html',\n",
       " 'guern',\n",
       " 'angiesydney',\n",
       " 'giedi',\n",
       " 'jabe',\n",
       " 'adell',\n",
       " 'masry',\n",
       " 'año',\n",
       " 'kokibhai',\n",
       " 'serially',\n",
       " 'beatific',\n",
       " 'enewsworld',\n",
       " 'laxmione',\n",
       " 'tikhon',\n",
       " 'darrel',\n",
       " 'roberthoffman',\n",
       " 'sangmins',\n",
       " 'tadpoles',\n",
       " 'forewarns',\n",
       " 'swarnalata',\n",
       " 'iiirp',\n",
       " 'location29',\n",
       " 'sagrada',\n",
       " 'baai',\n",
       " 'joffer',\n",
       " 'adami',\n",
       " 'buloni',\n",
       " 'steinbach',\n",
       " 'newsanchor',\n",
       " 'beeman',\n",
       " 'orinoco',\n",
       " 'homefilm',\n",
       " 'arackel',\n",
       " 'overprotects',\n",
       " 'loyaties',\n",
       " 'brasi',\n",
       " 'massdoudhtml',\n",
       " 'littleton',\n",
       " 'gyo',\n",
       " 'discrete',\n",
       " 'tegel']"
      ]
     },
     "execution_count": 27,
     "metadata": {},
     "output_type": "execute_result"
    }
   ],
   "source": [
    "sorted(idf_dict, key=idf_dict.get, reverse=True)[:150]"
   ]
  },
  {
   "cell_type": "code",
   "execution_count": 7,
   "metadata": {
    "collapsed": false
   },
   "outputs": [
    {
     "data": {
      "text/plain": [
       "2"
      ]
     },
     "execution_count": 7,
     "metadata": {},
     "output_type": "execute_result"
    }
   ],
   "source": [
    "['this', 'is', 'a', 'sentence', 'sentence'].count('sentence')"
   ]
  },
  {
   "cell_type": "markdown",
   "metadata": {},
   "source": [
    "## Here was my second attempt\n",
    "Yet again we keep getting memory errors...."
   ]
  },
  {
   "cell_type": "markdown",
   "metadata": {},
   "source": [
    "What words are characteristic of the movie summaries in those genres? Specifically:\n",
    "\n",
    "- Drama\n",
    "- Comedy\n",
    "- Action/Adventure\n",
    "- Romance film\n",
    "- Thriller"
   ]
  },
  {
   "cell_type": "code",
   "execution_count": 2,
   "metadata": {
    "collapsed": true
   },
   "outputs": [],
   "source": [
    "unique_genres = [\"Drama\", \"Comedy\", \"Action/Adventure\", \"Romance Film\", \"Thriller\"]\n",
    "\n",
    "def tokenizer(blob):\n",
    "    translator = str.maketrans({key: None for key in string.punctuation})\n",
    "    \n",
    "    tokenized = blob.lower().replace(\"-\",\" \").translate(translator).split()\n",
    "    return tokenized"
   ]
  },
  {
   "cell_type": "code",
   "execution_count": 3,
   "metadata": {
    "collapsed": true
   },
   "outputs": [],
   "source": [
    "movie_dict = {}\n",
    "for genre in unique_genres:\n",
    "    for title, genres, summary in zip(movies['title'], movies['genres'], movies['summary']):\n",
    "        if genre in genres:\n",
    "            movie_dict[(title, genre)] = tokenizer(summary)\n",
    "            \n",
    "word_index = {word: n for summary in movie_dict.values() for n, word in enumerate(summary)}\n",
    "word_index;"
   ]
  },
  {
   "cell_type": "code",
   "execution_count": 4,
   "metadata": {
    "collapsed": false
   },
   "outputs": [
    {
     "ename": "MemoryError",
     "evalue": "",
     "output_type": "error",
     "traceback": [
      "\u001b[1;31m---------------------------------------------------------------------------\u001b[0m",
      "\u001b[1;31mMemoryError\u001b[0m                               Traceback (most recent call last)",
      "\u001b[1;32m<ipython-input-4-4b0a0634cb69>\u001b[0m in \u001b[0;36m<module>\u001b[1;34m()\u001b[0m\n\u001b[0;32m      3\u001b[0m \u001b[0mmovie_vecs\u001b[0m \u001b[1;33m=\u001b[0m \u001b[1;33m{\u001b[0m\u001b[1;33m}\u001b[0m\u001b[1;33m\u001b[0m\u001b[0m\n\u001b[0;32m      4\u001b[0m \u001b[1;32mfor\u001b[0m \u001b[0mtitle\u001b[0m\u001b[1;33m,\u001b[0m \u001b[0mgenre\u001b[0m \u001b[1;32min\u001b[0m \u001b[0mmovie_dict\u001b[0m\u001b[1;33m.\u001b[0m\u001b[0mkeys\u001b[0m\u001b[1;33m(\u001b[0m\u001b[1;33m)\u001b[0m\u001b[1;33m:\u001b[0m\u001b[1;33m\u001b[0m\u001b[0m\n\u001b[1;32m----> 5\u001b[1;33m     \u001b[0mmovie_vecs\u001b[0m\u001b[1;33m[\u001b[0m\u001b[1;33m(\u001b[0m\u001b[0mtitle\u001b[0m\u001b[1;33m,\u001b[0m \u001b[0mgenre\u001b[0m\u001b[1;33m)\u001b[0m\u001b[1;33m]\u001b[0m \u001b[1;33m=\u001b[0m \u001b[0mnp\u001b[0m\u001b[1;33m.\u001b[0m\u001b[0mzeros\u001b[0m\u001b[1;33m(\u001b[0m\u001b[0mlen\u001b[0m\u001b[1;33m(\u001b[0m\u001b[0mword_index\u001b[0m\u001b[1;33m)\u001b[0m\u001b[1;33m)\u001b[0m\u001b[1;33m\u001b[0m\u001b[0m\n\u001b[0m",
      "\u001b[1;31mMemoryError\u001b[0m: "
     ]
    }
   ],
   "source": [
    "# movie_vecs = {(value[0], value[1]): np.zeros(len(word_index)) for value in movie_dict.keys()}\n",
    "# movie_vecs\n",
    "movie_vecs = {}\n",
    "for title, genre in movie_dict.keys():\n",
    "    movie_vecs[(title, genre)] = np.zeros(len(word_index))"
   ]
  },
  {
   "cell_type": "markdown",
   "metadata": {},
   "source": [
    "## The code below is our first attmempt"
   ]
  },
  {
   "cell_type": "code",
   "execution_count": 2,
   "metadata": {
    "collapsed": false
   },
   "outputs": [],
   "source": [
    "#all_genres stores all the genres split out of the lists and stacks horizontally\n",
    "#This makes is easy to construct our dataframe later\n",
    "all_genres = np.hstack(movies.genres)\n",
    "\n",
    "#Each feature is stacked so that a value repeats for as many genres as were in the original genre list\n",
    "all_titles = np.hstack([[title]*len(genre) for title, genre in movies[['title', 'genres']].values])\n",
    "all_release_dates = np.hstack([[release]*len(genre) for release, genre in movies[['release_date', 'genres']].values])\n",
    "all_revenues = np.hstack([[revenue]*len(genre) for revenue, genre in movies[['box_office_revenue', 'genres']].values])\n",
    "all_runtimes = np.hstack([[runtime]*len(genre) for runtime, genre in movies[['runtime', 'genres']].values])\n",
    "all_summaries = np.hstack([[summary]*len(genre) for summary, genre in movies[['summary', 'genres']].values])"
   ]
  },
  {
   "cell_type": "code",
   "execution_count": 2,
   "metadata": {
    "collapsed": true
   },
   "outputs": [],
   "source": [
    "movies_split = pd.DataFrame({'genres': np.hstack(movies.genres), \n",
    "                             'titles':np.hstack([[title]*len(genre) for title, genre in movies[['title', 'genres']].values]), \n",
    "                             'release_date':np.hstack([[release]*len(genre) for release, genre in movies[['release_date', 'genres']].values]),\n",
    "                             'box_office_revenue':np.hstack([[revenue]*len(genre) for revenue, genre in movies[['box_office_revenue', 'genres']].values]), \n",
    "                             'runtime':np.hstack([[runtime]*len(genre) for runtime, genre in movies[['runtime', 'genres']].values]), \n",
    "                             'summary':np.hstack([[summary]*len(genre) for summary, genre in movies[['summary', 'genres']].values])})"
   ]
  },
  {
   "cell_type": "code",
   "execution_count": 3,
   "metadata": {
    "collapsed": false
   },
   "outputs": [
    {
     "data": {
      "text/html": [
       "<div>\n",
       "<table border=\"1\" class=\"dataframe\">\n",
       "  <thead>\n",
       "    <tr style=\"text-align: right;\">\n",
       "      <th></th>\n",
       "      <th>box_office_revenue</th>\n",
       "      <th>genres</th>\n",
       "      <th>release_date</th>\n",
       "      <th>runtime</th>\n",
       "      <th>summary</th>\n",
       "      <th>titles</th>\n",
       "    </tr>\n",
       "  </thead>\n",
       "  <tbody>\n",
       "    <tr>\n",
       "      <th>0</th>\n",
       "      <td>14010832.0</td>\n",
       "      <td>Space western</td>\n",
       "      <td>2001-08-24</td>\n",
       "      <td>98.0</td>\n",
       "      <td>Set in the second half of the 22nd century, th...</td>\n",
       "      <td>Ghosts of Mars</td>\n",
       "    </tr>\n",
       "    <tr>\n",
       "      <th>1</th>\n",
       "      <td>14010832.0</td>\n",
       "      <td>Horror</td>\n",
       "      <td>2001-08-24</td>\n",
       "      <td>98.0</td>\n",
       "      <td>Set in the second half of the 22nd century, th...</td>\n",
       "      <td>Ghosts of Mars</td>\n",
       "    </tr>\n",
       "    <tr>\n",
       "      <th>2</th>\n",
       "      <td>14010832.0</td>\n",
       "      <td>Supernatural</td>\n",
       "      <td>2001-08-24</td>\n",
       "      <td>98.0</td>\n",
       "      <td>Set in the second half of the 22nd century, th...</td>\n",
       "      <td>Ghosts of Mars</td>\n",
       "    </tr>\n",
       "    <tr>\n",
       "      <th>3</th>\n",
       "      <td>14010832.0</td>\n",
       "      <td>Thriller</td>\n",
       "      <td>2001-08-24</td>\n",
       "      <td>98.0</td>\n",
       "      <td>Set in the second half of the 22nd century, th...</td>\n",
       "      <td>Ghosts of Mars</td>\n",
       "    </tr>\n",
       "    <tr>\n",
       "      <th>4</th>\n",
       "      <td>14010832.0</td>\n",
       "      <td>Science Fiction</td>\n",
       "      <td>2001-08-24</td>\n",
       "      <td>98.0</td>\n",
       "      <td>Set in the second half of the 22nd century, th...</td>\n",
       "      <td>Ghosts of Mars</td>\n",
       "    </tr>\n",
       "    <tr>\n",
       "      <th>5</th>\n",
       "      <td>14010832.0</td>\n",
       "      <td>Action</td>\n",
       "      <td>2001-08-24</td>\n",
       "      <td>98.0</td>\n",
       "      <td>Set in the second half of the 22nd century, th...</td>\n",
       "      <td>Ghosts of Mars</td>\n",
       "    </tr>\n",
       "    <tr>\n",
       "      <th>6</th>\n",
       "      <td>14010832.0</td>\n",
       "      <td>Adventure</td>\n",
       "      <td>2001-08-24</td>\n",
       "      <td>98.0</td>\n",
       "      <td>Set in the second half of the 22nd century, th...</td>\n",
       "      <td>Ghosts of Mars</td>\n",
       "    </tr>\n",
       "    <tr>\n",
       "      <th>7</th>\n",
       "      <td>NaN</td>\n",
       "      <td>Erotic thriller</td>\n",
       "      <td>1987</td>\n",
       "      <td>110.0</td>\n",
       "      <td>A series of murders of rich young women throug...</td>\n",
       "      <td>White Of The Eye</td>\n",
       "    </tr>\n",
       "    <tr>\n",
       "      <th>8</th>\n",
       "      <td>NaN</td>\n",
       "      <td>Psychological thriller</td>\n",
       "      <td>1987</td>\n",
       "      <td>110.0</td>\n",
       "      <td>A series of murders of rich young women throug...</td>\n",
       "      <td>White Of The Eye</td>\n",
       "    </tr>\n",
       "    <tr>\n",
       "      <th>9</th>\n",
       "      <td>NaN</td>\n",
       "      <td>Thriller</td>\n",
       "      <td>1987</td>\n",
       "      <td>110.0</td>\n",
       "      <td>A series of murders of rich young women throug...</td>\n",
       "      <td>White Of The Eye</td>\n",
       "    </tr>\n",
       "  </tbody>\n",
       "</table>\n",
       "</div>"
      ],
      "text/plain": [
       "   box_office_revenue                  genres release_date  runtime  \\\n",
       "0          14010832.0           Space western   2001-08-24     98.0   \n",
       "1          14010832.0                  Horror   2001-08-24     98.0   \n",
       "2          14010832.0            Supernatural   2001-08-24     98.0   \n",
       "3          14010832.0                Thriller   2001-08-24     98.0   \n",
       "4          14010832.0         Science Fiction   2001-08-24     98.0   \n",
       "5          14010832.0                  Action   2001-08-24     98.0   \n",
       "6          14010832.0               Adventure   2001-08-24     98.0   \n",
       "7                 NaN         Erotic thriller         1987    110.0   \n",
       "8                 NaN  Psychological thriller         1987    110.0   \n",
       "9                 NaN                Thriller         1987    110.0   \n",
       "\n",
       "                                             summary            titles  \n",
       "0  Set in the second half of the 22nd century, th...    Ghosts of Mars  \n",
       "1  Set in the second half of the 22nd century, th...    Ghosts of Mars  \n",
       "2  Set in the second half of the 22nd century, th...    Ghosts of Mars  \n",
       "3  Set in the second half of the 22nd century, th...    Ghosts of Mars  \n",
       "4  Set in the second half of the 22nd century, th...    Ghosts of Mars  \n",
       "5  Set in the second half of the 22nd century, th...    Ghosts of Mars  \n",
       "6  Set in the second half of the 22nd century, th...    Ghosts of Mars  \n",
       "7  A series of murders of rich young women throug...  White Of The Eye  \n",
       "8  A series of murders of rich young women throug...  White Of The Eye  \n",
       "9  A series of murders of rich young women throug...  White Of The Eye  "
      ]
     },
     "execution_count": 3,
     "metadata": {},
     "output_type": "execute_result"
    }
   ],
   "source": [
    "movies_split = pd.DataFrame({'genres':all_genres, 'titles':all_titles, 'release_date':all_release_dates,\n",
    "                     'box_office_revenue':all_revenues, 'runtime':all_runtimes, 'summary':all_summaries})\n",
    "\n",
    "#Let's check to see if this yields what we expect...\n",
    "movies_split.head(10)"
   ]
  },
  {
   "cell_type": "code",
   "execution_count": 3,
   "metadata": {
    "collapsed": false
   },
   "outputs": [
    {
     "data": {
      "text/html": [
       "<div>\n",
       "<table border=\"1\" class=\"dataframe\">\n",
       "  <thead>\n",
       "    <tr style=\"text-align: right;\">\n",
       "      <th></th>\n",
       "      <th>box_office_revenue</th>\n",
       "      <th>genres</th>\n",
       "      <th>release_date</th>\n",
       "      <th>runtime</th>\n",
       "      <th>summary</th>\n",
       "      <th>titles</th>\n",
       "    </tr>\n",
       "  </thead>\n",
       "  <tbody>\n",
       "    <tr>\n",
       "      <th>3</th>\n",
       "      <td>14010832.0</td>\n",
       "      <td>Thriller</td>\n",
       "      <td>2001-08-24</td>\n",
       "      <td>98.0</td>\n",
       "      <td>Set in the second half of the 22nd century, th...</td>\n",
       "      <td>Ghosts of Mars</td>\n",
       "    </tr>\n",
       "    <tr>\n",
       "      <th>9</th>\n",
       "      <td>NaN</td>\n",
       "      <td>Thriller</td>\n",
       "      <td>1987</td>\n",
       "      <td>110.0</td>\n",
       "      <td>A series of murders of rich young women throug...</td>\n",
       "      <td>White Of The Eye</td>\n",
       "    </tr>\n",
       "    <tr>\n",
       "      <th>10</th>\n",
       "      <td>NaN</td>\n",
       "      <td>Drama</td>\n",
       "      <td>1983</td>\n",
       "      <td>106.0</td>\n",
       "      <td>Eva, an upper class housewife, becomes frustra...</td>\n",
       "      <td>A Woman in Flames</td>\n",
       "    </tr>\n",
       "    <tr>\n",
       "      <th>15</th>\n",
       "      <td>NaN</td>\n",
       "      <td>Romance Film</td>\n",
       "      <td>1997-04-04</td>\n",
       "      <td>93.0</td>\n",
       "      <td>Adam, a San Francisco-based artist who works a...</td>\n",
       "      <td>Little city</td>\n",
       "    </tr>\n",
       "    <tr>\n",
       "      <th>18</th>\n",
       "      <td>NaN</td>\n",
       "      <td>Comedy</td>\n",
       "      <td>1997-04-04</td>\n",
       "      <td>93.0</td>\n",
       "      <td>Adam, a San Francisco-based artist who works a...</td>\n",
       "      <td>Little city</td>\n",
       "    </tr>\n",
       "  </tbody>\n",
       "</table>\n",
       "</div>"
      ],
      "text/plain": [
       "    box_office_revenue        genres release_date  runtime  \\\n",
       "3           14010832.0      Thriller   2001-08-24     98.0   \n",
       "9                  NaN      Thriller         1987    110.0   \n",
       "10                 NaN         Drama         1983    106.0   \n",
       "15                 NaN  Romance Film   1997-04-04     93.0   \n",
       "18                 NaN        Comedy   1997-04-04     93.0   \n",
       "\n",
       "                                              summary             titles  \n",
       "3   Set in the second half of the 22nd century, th...     Ghosts of Mars  \n",
       "9   A series of murders of rich young women throug...   White Of The Eye  \n",
       "10  Eva, an upper class housewife, becomes frustra...  A Woman in Flames  \n",
       "15  Adam, a San Francisco-based artist who works a...        Little city  \n",
       "18  Adam, a San Francisco-based artist who works a...        Little city  "
      ]
     },
     "execution_count": 3,
     "metadata": {},
     "output_type": "execute_result"
    }
   ],
   "source": [
    "# drama = movies_split[movies_split['genres'] == 'Drama']\n",
    "# comedy = movies_split[movies_split['genres'] == 'Comedy']\n",
    "# action_adv = movies_split[movies_split['genres'] == 'Action/Adventure']\n",
    "# romance = movies_split[movies_split['genres'] == 'Romance Film']\n",
    "# thriller = movies_split[movies_split['genres'] == 'Thriller']\n",
    "# romance.head(10)\n",
    "\n",
    "top = movies_split[(movies_split['genres'] == 'Drama') | (movies_split['genres'] == 'Comedy') |\n",
    "                  (movies_split['genres'] == 'Action/Adventure') | (movies_split['genres'] == 'Romance Film') |\n",
    "                  (movies_split['genres'] == 'Thriller')]\n",
    "top.head(5)"
   ]
  },
  {
   "cell_type": "code",
   "execution_count": 5,
   "metadata": {
    "collapsed": false
   },
   "outputs": [
    {
     "ename": "NameError",
     "evalue": "name 'romance' is not defined",
     "output_type": "error",
     "traceback": [
      "\u001b[1;31m---------------------------------------------------------------------------\u001b[0m",
      "\u001b[1;31mNameError\u001b[0m                                 Traceback (most recent call last)",
      "\u001b[1;32m<ipython-input-5-1dd2d1409849>\u001b[0m in \u001b[0;36m<module>\u001b[1;34m()\u001b[0m\n\u001b[1;32m----> 1\u001b[1;33m \u001b[0msample\u001b[0m \u001b[1;33m=\u001b[0m \u001b[0mromance\u001b[0m\u001b[1;33m[\u001b[0m\u001b[1;34m'summary'\u001b[0m\u001b[1;33m]\u001b[0m\u001b[1;33m[\u001b[0m\u001b[1;36m15\u001b[0m\u001b[1;33m]\u001b[0m\u001b[1;33m\u001b[0m\u001b[0m\n\u001b[0m\u001b[0;32m      2\u001b[0m \u001b[0msample\u001b[0m\u001b[1;33m\u001b[0m\u001b[0m\n",
      "\u001b[1;31mNameError\u001b[0m: name 'romance' is not defined"
     ]
    }
   ],
   "source": [
    "sample = romance['summary'][15]\n",
    "sample"
   ]
  },
  {
   "cell_type": "code",
   "execution_count": 4,
   "metadata": {
    "collapsed": false
   },
   "outputs": [],
   "source": [
    "def tokenizer(blob):\n",
    "    translator = str.maketrans({key: None for key in string.punctuation})\n",
    "    \n",
    "    tokenized = blob.lower().replace(\"-\",\" \").translate(translator).split()\n",
    "    return tokenized\n",
    "\n",
    "# tokens = tokenizer(sample)"
   ]
  },
  {
   "cell_type": "code",
   "execution_count": 5,
   "metadata": {
    "collapsed": false
   },
   "outputs": [],
   "source": [
    "summary_dict = {}\n",
    "vocab = {}\n",
    "\n",
    "for title, summary in zip(top['titles'], top['summary']):\n",
    "    summary_dict[title] = tokenizer(summary)\n",
    "    for token in tokenizer(summary):\n",
    "        vocab[token] = vocab.get(token, 0) + 1\n",
    "\n",
    "word_index = {}\n",
    "for idx, word in enumerate(sorted(vocab)): \n",
    "        word_index[word] = idx"
   ]
  },
  {
   "cell_type": "code",
   "execution_count": 7,
   "metadata": {
    "collapsed": false
   },
   "outputs": [
    {
     "ename": "MemoryError",
     "evalue": "",
     "output_type": "error",
     "traceback": [
      "\u001b[1;31m---------------------------------------------------------------------------\u001b[0m",
      "\u001b[1;31mMemoryError\u001b[0m                               Traceback (most recent call last)",
      "\u001b[1;32m<ipython-input-7-bf5eebbaca0a>\u001b[0m in \u001b[0;36m<module>\u001b[1;34m()\u001b[0m\n\u001b[1;32m----> 1\u001b[1;33m \u001b[0mmovie_vec\u001b[0m \u001b[1;33m=\u001b[0m \u001b[1;33m{\u001b[0m\u001b[0mtitle\u001b[0m\u001b[1;33m:\u001b[0m \u001b[0mnp\u001b[0m\u001b[1;33m.\u001b[0m\u001b[0mzeros\u001b[0m\u001b[1;33m(\u001b[0m\u001b[0mlen\u001b[0m\u001b[1;33m(\u001b[0m\u001b[0mword_index\u001b[0m\u001b[1;33m)\u001b[0m\u001b[1;33m)\u001b[0m \u001b[1;32mfor\u001b[0m \u001b[0mtitle\u001b[0m \u001b[1;32min\u001b[0m \u001b[0mtop\u001b[0m\u001b[1;33m[\u001b[0m\u001b[1;34m'titles'\u001b[0m\u001b[1;33m]\u001b[0m\u001b[1;33m}\u001b[0m\u001b[1;33m\u001b[0m\u001b[0m\n\u001b[0m\u001b[0;32m      2\u001b[0m \u001b[1;33m\u001b[0m\u001b[0m\n\u001b[0;32m      3\u001b[0m \u001b[1;32mfor\u001b[0m \u001b[0mtitle\u001b[0m\u001b[1;33m,\u001b[0m \u001b[0msummary\u001b[0m \u001b[1;32min\u001b[0m \u001b[0msummary_dict\u001b[0m\u001b[1;33m.\u001b[0m\u001b[0mitems\u001b[0m\u001b[1;33m(\u001b[0m\u001b[1;33m)\u001b[0m\u001b[1;33m:\u001b[0m\u001b[1;33m\u001b[0m\u001b[0m\n\u001b[0;32m      4\u001b[0m     \u001b[1;32mfor\u001b[0m \u001b[0mword\u001b[0m \u001b[1;32min\u001b[0m \u001b[0msummary\u001b[0m\u001b[1;33m:\u001b[0m\u001b[1;33m\u001b[0m\u001b[0m\n\u001b[0;32m      5\u001b[0m         \u001b[0mmovie_vec\u001b[0m\u001b[1;33m[\u001b[0m\u001b[0mtitle\u001b[0m\u001b[1;33m]\u001b[0m\u001b[1;33m[\u001b[0m\u001b[0mword_index\u001b[0m\u001b[1;33m[\u001b[0m\u001b[0mword\u001b[0m\u001b[1;33m]\u001b[0m\u001b[1;33m]\u001b[0m \u001b[1;33m+=\u001b[0m \u001b[1;36m1\u001b[0m\u001b[1;33m\u001b[0m\u001b[0m\n",
      "\u001b[1;32m<ipython-input-7-bf5eebbaca0a>\u001b[0m in \u001b[0;36m<dictcomp>\u001b[1;34m(.0)\u001b[0m\n\u001b[1;32m----> 1\u001b[1;33m \u001b[0mmovie_vec\u001b[0m \u001b[1;33m=\u001b[0m \u001b[1;33m{\u001b[0m\u001b[0mtitle\u001b[0m\u001b[1;33m:\u001b[0m \u001b[0mnp\u001b[0m\u001b[1;33m.\u001b[0m\u001b[0mzeros\u001b[0m\u001b[1;33m(\u001b[0m\u001b[0mlen\u001b[0m\u001b[1;33m(\u001b[0m\u001b[0mword_index\u001b[0m\u001b[1;33m)\u001b[0m\u001b[1;33m)\u001b[0m \u001b[1;32mfor\u001b[0m \u001b[0mtitle\u001b[0m \u001b[1;32min\u001b[0m \u001b[0mtop\u001b[0m\u001b[1;33m[\u001b[0m\u001b[1;34m'titles'\u001b[0m\u001b[1;33m]\u001b[0m\u001b[1;33m}\u001b[0m\u001b[1;33m\u001b[0m\u001b[0m\n\u001b[0m\u001b[0;32m      2\u001b[0m \u001b[1;33m\u001b[0m\u001b[0m\n\u001b[0;32m      3\u001b[0m \u001b[1;32mfor\u001b[0m \u001b[0mtitle\u001b[0m\u001b[1;33m,\u001b[0m \u001b[0msummary\u001b[0m \u001b[1;32min\u001b[0m \u001b[0msummary_dict\u001b[0m\u001b[1;33m.\u001b[0m\u001b[0mitems\u001b[0m\u001b[1;33m(\u001b[0m\u001b[1;33m)\u001b[0m\u001b[1;33m:\u001b[0m\u001b[1;33m\u001b[0m\u001b[0m\n\u001b[0;32m      4\u001b[0m     \u001b[1;32mfor\u001b[0m \u001b[0mword\u001b[0m \u001b[1;32min\u001b[0m \u001b[0msummary\u001b[0m\u001b[1;33m:\u001b[0m\u001b[1;33m\u001b[0m\u001b[0m\n\u001b[0;32m      5\u001b[0m         \u001b[0mmovie_vec\u001b[0m\u001b[1;33m[\u001b[0m\u001b[0mtitle\u001b[0m\u001b[1;33m]\u001b[0m\u001b[1;33m[\u001b[0m\u001b[0mword_index\u001b[0m\u001b[1;33m[\u001b[0m\u001b[0mword\u001b[0m\u001b[1;33m]\u001b[0m\u001b[1;33m]\u001b[0m \u001b[1;33m+=\u001b[0m \u001b[1;36m1\u001b[0m\u001b[1;33m\u001b[0m\u001b[0m\n",
      "\u001b[1;31mMemoryError\u001b[0m: "
     ]
    }
   ],
   "source": [
    "movie_vec = {title: np.zeros(len(word_index)) for title in top['titles']}\n",
    "\n",
    "for title, summary in summary_dict.items():\n",
    "    for word in summary:\n",
    "        movie_vec[title][word_index[word]] += 1\n",
    "movie_vec"
   ]
  },
  {
   "cell_type": "code",
   "execution_count": null,
   "metadata": {
    "collapsed": true
   },
   "outputs": [],
   "source": []
  }
 ],
 "metadata": {
  "anaconda-cloud": {},
  "kernelspec": {
   "display_name": "Python [Root]",
   "language": "python",
   "name": "Python [Root]"
  },
  "language_info": {
   "codemirror_mode": {
    "name": "ipython",
    "version": 3
   },
   "file_extension": ".py",
   "mimetype": "text/x-python",
   "name": "python",
   "nbconvert_exporter": "python",
   "pygments_lexer": "ipython3",
   "version": "3.5.4"
  }
 },
 "nbformat": 4,
 "nbformat_minor": 0
}
